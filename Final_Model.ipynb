{
  "nbformat": 4,
  "nbformat_minor": 0,
  "metadata": {
    "colab": {
      "provenance": []
    },
    "kernelspec": {
      "name": "python3",
      "display_name": "Python 3"
    },
    "language_info": {
      "name": "python"
    }
  },
  "cells": [
    {
      "cell_type": "code",
      "execution_count": 72,
      "metadata": {
        "colab": {
          "base_uri": "https://localhost:8080/"
        },
        "id": "y38cAy-Y2u5I",
        "outputId": "f82f8da1-a35e-44b3-8412-6a446fa30e2c"
      },
      "outputs": [
        {
          "output_type": "stream",
          "name": "stdout",
          "text": [
            "Drive already mounted at /content/drive; to attempt to forcibly remount, call drive.mount(\"/content/drive\", force_remount=True).\n"
          ]
        }
      ],
      "source": [
        "from google.colab import drive\n",
        "drive.mount('/content/drive')"
      ]
    },
    {
      "cell_type": "code",
      "source": [
        "pip install catboost"
      ],
      "metadata": {
        "colab": {
          "base_uri": "https://localhost:8080/"
        },
        "id": "ubb0jEsL4gAq",
        "outputId": "bb32dbfb-db74-483b-fec7-67111eaa689e"
      },
      "execution_count": 73,
      "outputs": [
        {
          "output_type": "stream",
          "name": "stdout",
          "text": [
            "Requirement already satisfied: catboost in /usr/local/lib/python3.10/dist-packages (1.2.2)\n",
            "Requirement already satisfied: graphviz in /usr/local/lib/python3.10/dist-packages (from catboost) (0.20.1)\n",
            "Requirement already satisfied: matplotlib in /usr/local/lib/python3.10/dist-packages (from catboost) (3.7.1)\n",
            "Requirement already satisfied: numpy>=1.16.0 in /usr/local/lib/python3.10/dist-packages (from catboost) (1.23.5)\n",
            "Requirement already satisfied: pandas>=0.24 in /usr/local/lib/python3.10/dist-packages (from catboost) (1.5.3)\n",
            "Requirement already satisfied: scipy in /usr/local/lib/python3.10/dist-packages (from catboost) (1.11.3)\n",
            "Requirement already satisfied: plotly in /usr/local/lib/python3.10/dist-packages (from catboost) (5.15.0)\n",
            "Requirement already satisfied: six in /usr/local/lib/python3.10/dist-packages (from catboost) (1.16.0)\n",
            "Requirement already satisfied: python-dateutil>=2.8.1 in /usr/local/lib/python3.10/dist-packages (from pandas>=0.24->catboost) (2.8.2)\n",
            "Requirement already satisfied: pytz>=2020.1 in /usr/local/lib/python3.10/dist-packages (from pandas>=0.24->catboost) (2023.3.post1)\n",
            "Requirement already satisfied: contourpy>=1.0.1 in /usr/local/lib/python3.10/dist-packages (from matplotlib->catboost) (1.1.1)\n",
            "Requirement already satisfied: cycler>=0.10 in /usr/local/lib/python3.10/dist-packages (from matplotlib->catboost) (0.12.1)\n",
            "Requirement already satisfied: fonttools>=4.22.0 in /usr/local/lib/python3.10/dist-packages (from matplotlib->catboost) (4.43.1)\n",
            "Requirement already satisfied: kiwisolver>=1.0.1 in /usr/local/lib/python3.10/dist-packages (from matplotlib->catboost) (1.4.5)\n",
            "Requirement already satisfied: packaging>=20.0 in /usr/local/lib/python3.10/dist-packages (from matplotlib->catboost) (23.2)\n",
            "Requirement already satisfied: pillow>=6.2.0 in /usr/local/lib/python3.10/dist-packages (from matplotlib->catboost) (9.4.0)\n",
            "Requirement already satisfied: pyparsing>=2.3.1 in /usr/local/lib/python3.10/dist-packages (from matplotlib->catboost) (3.1.1)\n",
            "Requirement already satisfied: tenacity>=6.2.0 in /usr/local/lib/python3.10/dist-packages (from plotly->catboost) (8.2.3)\n"
          ]
        }
      ]
    },
    {
      "cell_type": "code",
      "source": [
        " # Prepare & import all library\n",
        "import numpy as np\n",
        "import pandas as pd\n",
        "import math\n",
        "import random\n",
        "import seaborn as sns\n",
        "\n",
        "from scipy.stats import pearsonr, jarque_bera\n",
        "import matplotlib.pyplot as plt\n",
        "\n",
        "from sklearn.preprocessing import StandardScaler\n",
        "from sklearn.preprocessing import LabelEncoder\n",
        "\n",
        "from sklearn.model_selection import train_test_split\n",
        "from sklearn import tree\n",
        "\n",
        "from sklearn.ensemble import RandomForestClassifier\n",
        "from sklearn.tree import DecisionTreeClassifier\n",
        "from sklearn.ensemble import RandomForestClassifier\n",
        "from sklearn.naive_bayes import GaussianNB\n",
        "from sklearn.neighbors import KNeighborsClassifier\n",
        "from sklearn.svm import SVC\n",
        "from sklearn.neural_network import MLPClassifier\n",
        "from sklearn.ensemble import AdaBoostClassifier\n",
        "from sklearn.ensemble import GradientBoostingClassifier\n",
        "from sklearn.ensemble import ExtraTreesClassifier\n",
        "from sklearn.linear_model import LogisticRegression\n",
        "from sklearn.decomposition import PCA\n",
        "from xgboost import XGBClassifier\n",
        "from catboost import CatBoostClassifier\n",
        "from sklearn.ensemble import VotingClassifier\n",
        "\n",
        "from sklearn import metrics\n",
        "from sklearn.metrics import roc_curve\n",
        "from sklearn.metrics import accuracy_score, precision_score, recall_score, roc_curve, roc_auc_score\n",
        "from sklearn.metrics import accuracy_score, confusion_matrix, precision_score, recall_score, classification_report, confusion_matrix, f1_score\n",
        "from sklearn.model_selection import cross_val_score\n",
        "from sklearn.model_selection import GridSearchCV\n",
        "from sklearn.model_selection import ShuffleSplit\n",
        "from sklearn.model_selection import KFold\n",
        "import warnings\n",
        "warnings.filterwarnings(\"ignore\")\n",
        "\n",
        "%matplotlib inline"
      ],
      "metadata": {
        "id": "9oUkkBzQ4OWr"
      },
      "execution_count": 143,
      "outputs": []
    },
    {
      "cell_type": "markdown",
      "source": [
        "### Load data, split features to X and y, define standard scaler"
      ],
      "metadata": {
        "id": "lzRbBOKQ6_wj"
      }
    },
    {
      "cell_type": "code",
      "source": [
        "# Load dataset\n",
        "df = pd.read_csv('/content/drive/MyDrive/telco_customer.csv')\n",
        "df.head()"
      ],
      "metadata": {
        "colab": {
          "base_uri": "https://localhost:8080/",
          "height": 243
        },
        "id": "KYi4vZsH37yN",
        "outputId": "91aacfc4-5fab-44dc-e7d9-b97f6458bbc6"
      },
      "execution_count": 75,
      "outputs": [
        {
          "output_type": "execute_result",
          "data": {
            "text/plain": [
              "   Unnamed: 0.1  Unnamed: 0  Customer_ID  Tenure_Months Location Device_Class  \\\n",
              "0             0           0            0              2  Jakarta      Mid End   \n",
              "1             1           1            1              2  Jakarta     High End   \n",
              "2             2           2            2              8  Jakarta     High End   \n",
              "3             3           3            3             28  Jakarta     High End   \n",
              "4             4           4            4             49  Jakarta     High End   \n",
              "\n",
              "  Games_Product Music_Product Education_Product Call_Center Video_Product  \\\n",
              "0           Yes           Yes                No          No            No   \n",
              "1            No            No                No          No            No   \n",
              "2            No            No               Yes          No           Yes   \n",
              "3            No            No               Yes         Yes           Yes   \n",
              "4            No           Yes               Yes          No           Yes   \n",
              "\n",
              "  Use_MyApp  Payment_Method  Monthly_Purchase_Th_IDR Churn_Label   Longitude  \\\n",
              "0        No  Digital Wallet                   70.005         Yes  106.816666   \n",
              "1        No           Pulsa                   91.910         Yes  106.816666   \n",
              "2       Yes           Pulsa                  129.545         Yes  106.816666   \n",
              "3       Yes           Pulsa                  136.240         Yes  106.816666   \n",
              "4       Yes           Debit                  134.810         Yes  106.816666   \n",
              "\n",
              "   Latitude  CLTV_Th_IDR_Pred  \n",
              "0      -6.2            4210.7  \n",
              "1      -6.2            3511.3  \n",
              "2      -6.2            6983.6  \n",
              "3      -6.2            6503.9  \n",
              "4      -6.2            6942.0  "
            ],
            "text/html": [
              "\n",
              "  <div id=\"df-34bf2bb1-932e-4f1f-85fa-80f5959fd803\" class=\"colab-df-container\">\n",
              "    <div>\n",
              "<style scoped>\n",
              "    .dataframe tbody tr th:only-of-type {\n",
              "        vertical-align: middle;\n",
              "    }\n",
              "\n",
              "    .dataframe tbody tr th {\n",
              "        vertical-align: top;\n",
              "    }\n",
              "\n",
              "    .dataframe thead th {\n",
              "        text-align: right;\n",
              "    }\n",
              "</style>\n",
              "<table border=\"1\" class=\"dataframe\">\n",
              "  <thead>\n",
              "    <tr style=\"text-align: right;\">\n",
              "      <th></th>\n",
              "      <th>Unnamed: 0.1</th>\n",
              "      <th>Unnamed: 0</th>\n",
              "      <th>Customer_ID</th>\n",
              "      <th>Tenure_Months</th>\n",
              "      <th>Location</th>\n",
              "      <th>Device_Class</th>\n",
              "      <th>Games_Product</th>\n",
              "      <th>Music_Product</th>\n",
              "      <th>Education_Product</th>\n",
              "      <th>Call_Center</th>\n",
              "      <th>Video_Product</th>\n",
              "      <th>Use_MyApp</th>\n",
              "      <th>Payment_Method</th>\n",
              "      <th>Monthly_Purchase_Th_IDR</th>\n",
              "      <th>Churn_Label</th>\n",
              "      <th>Longitude</th>\n",
              "      <th>Latitude</th>\n",
              "      <th>CLTV_Th_IDR_Pred</th>\n",
              "    </tr>\n",
              "  </thead>\n",
              "  <tbody>\n",
              "    <tr>\n",
              "      <th>0</th>\n",
              "      <td>0</td>\n",
              "      <td>0</td>\n",
              "      <td>0</td>\n",
              "      <td>2</td>\n",
              "      <td>Jakarta</td>\n",
              "      <td>Mid End</td>\n",
              "      <td>Yes</td>\n",
              "      <td>Yes</td>\n",
              "      <td>No</td>\n",
              "      <td>No</td>\n",
              "      <td>No</td>\n",
              "      <td>No</td>\n",
              "      <td>Digital Wallet</td>\n",
              "      <td>70.005</td>\n",
              "      <td>Yes</td>\n",
              "      <td>106.816666</td>\n",
              "      <td>-6.2</td>\n",
              "      <td>4210.7</td>\n",
              "    </tr>\n",
              "    <tr>\n",
              "      <th>1</th>\n",
              "      <td>1</td>\n",
              "      <td>1</td>\n",
              "      <td>1</td>\n",
              "      <td>2</td>\n",
              "      <td>Jakarta</td>\n",
              "      <td>High End</td>\n",
              "      <td>No</td>\n",
              "      <td>No</td>\n",
              "      <td>No</td>\n",
              "      <td>No</td>\n",
              "      <td>No</td>\n",
              "      <td>No</td>\n",
              "      <td>Pulsa</td>\n",
              "      <td>91.910</td>\n",
              "      <td>Yes</td>\n",
              "      <td>106.816666</td>\n",
              "      <td>-6.2</td>\n",
              "      <td>3511.3</td>\n",
              "    </tr>\n",
              "    <tr>\n",
              "      <th>2</th>\n",
              "      <td>2</td>\n",
              "      <td>2</td>\n",
              "      <td>2</td>\n",
              "      <td>8</td>\n",
              "      <td>Jakarta</td>\n",
              "      <td>High End</td>\n",
              "      <td>No</td>\n",
              "      <td>No</td>\n",
              "      <td>Yes</td>\n",
              "      <td>No</td>\n",
              "      <td>Yes</td>\n",
              "      <td>Yes</td>\n",
              "      <td>Pulsa</td>\n",
              "      <td>129.545</td>\n",
              "      <td>Yes</td>\n",
              "      <td>106.816666</td>\n",
              "      <td>-6.2</td>\n",
              "      <td>6983.6</td>\n",
              "    </tr>\n",
              "    <tr>\n",
              "      <th>3</th>\n",
              "      <td>3</td>\n",
              "      <td>3</td>\n",
              "      <td>3</td>\n",
              "      <td>28</td>\n",
              "      <td>Jakarta</td>\n",
              "      <td>High End</td>\n",
              "      <td>No</td>\n",
              "      <td>No</td>\n",
              "      <td>Yes</td>\n",
              "      <td>Yes</td>\n",
              "      <td>Yes</td>\n",
              "      <td>Yes</td>\n",
              "      <td>Pulsa</td>\n",
              "      <td>136.240</td>\n",
              "      <td>Yes</td>\n",
              "      <td>106.816666</td>\n",
              "      <td>-6.2</td>\n",
              "      <td>6503.9</td>\n",
              "    </tr>\n",
              "    <tr>\n",
              "      <th>4</th>\n",
              "      <td>4</td>\n",
              "      <td>4</td>\n",
              "      <td>4</td>\n",
              "      <td>49</td>\n",
              "      <td>Jakarta</td>\n",
              "      <td>High End</td>\n",
              "      <td>No</td>\n",
              "      <td>Yes</td>\n",
              "      <td>Yes</td>\n",
              "      <td>No</td>\n",
              "      <td>Yes</td>\n",
              "      <td>Yes</td>\n",
              "      <td>Debit</td>\n",
              "      <td>134.810</td>\n",
              "      <td>Yes</td>\n",
              "      <td>106.816666</td>\n",
              "      <td>-6.2</td>\n",
              "      <td>6942.0</td>\n",
              "    </tr>\n",
              "  </tbody>\n",
              "</table>\n",
              "</div>\n",
              "    <div class=\"colab-df-buttons\">\n",
              "\n",
              "  <div class=\"colab-df-container\">\n",
              "    <button class=\"colab-df-convert\" onclick=\"convertToInteractive('df-34bf2bb1-932e-4f1f-85fa-80f5959fd803')\"\n",
              "            title=\"Convert this dataframe to an interactive table.\"\n",
              "            style=\"display:none;\">\n",
              "\n",
              "  <svg xmlns=\"http://www.w3.org/2000/svg\" height=\"24px\" viewBox=\"0 -960 960 960\">\n",
              "    <path d=\"M120-120v-720h720v720H120Zm60-500h600v-160H180v160Zm220 220h160v-160H400v160Zm0 220h160v-160H400v160ZM180-400h160v-160H180v160Zm440 0h160v-160H620v160ZM180-180h160v-160H180v160Zm440 0h160v-160H620v160Z\"/>\n",
              "  </svg>\n",
              "    </button>\n",
              "\n",
              "  <style>\n",
              "    .colab-df-container {\n",
              "      display:flex;\n",
              "      gap: 12px;\n",
              "    }\n",
              "\n",
              "    .colab-df-convert {\n",
              "      background-color: #E8F0FE;\n",
              "      border: none;\n",
              "      border-radius: 50%;\n",
              "      cursor: pointer;\n",
              "      display: none;\n",
              "      fill: #1967D2;\n",
              "      height: 32px;\n",
              "      padding: 0 0 0 0;\n",
              "      width: 32px;\n",
              "    }\n",
              "\n",
              "    .colab-df-convert:hover {\n",
              "      background-color: #E2EBFA;\n",
              "      box-shadow: 0px 1px 2px rgba(60, 64, 67, 0.3), 0px 1px 3px 1px rgba(60, 64, 67, 0.15);\n",
              "      fill: #174EA6;\n",
              "    }\n",
              "\n",
              "    .colab-df-buttons div {\n",
              "      margin-bottom: 4px;\n",
              "    }\n",
              "\n",
              "    [theme=dark] .colab-df-convert {\n",
              "      background-color: #3B4455;\n",
              "      fill: #D2E3FC;\n",
              "    }\n",
              "\n",
              "    [theme=dark] .colab-df-convert:hover {\n",
              "      background-color: #434B5C;\n",
              "      box-shadow: 0px 1px 3px 1px rgba(0, 0, 0, 0.15);\n",
              "      filter: drop-shadow(0px 1px 2px rgba(0, 0, 0, 0.3));\n",
              "      fill: #FFFFFF;\n",
              "    }\n",
              "  </style>\n",
              "\n",
              "    <script>\n",
              "      const buttonEl =\n",
              "        document.querySelector('#df-34bf2bb1-932e-4f1f-85fa-80f5959fd803 button.colab-df-convert');\n",
              "      buttonEl.style.display =\n",
              "        google.colab.kernel.accessAllowed ? 'block' : 'none';\n",
              "\n",
              "      async function convertToInteractive(key) {\n",
              "        const element = document.querySelector('#df-34bf2bb1-932e-4f1f-85fa-80f5959fd803');\n",
              "        const dataTable =\n",
              "          await google.colab.kernel.invokeFunction('convertToInteractive',\n",
              "                                                    [key], {});\n",
              "        if (!dataTable) return;\n",
              "\n",
              "        const docLinkHtml = 'Like what you see? Visit the ' +\n",
              "          '<a target=\"_blank\" href=https://colab.research.google.com/notebooks/data_table.ipynb>data table notebook</a>'\n",
              "          + ' to learn more about interactive tables.';\n",
              "        element.innerHTML = '';\n",
              "        dataTable['output_type'] = 'display_data';\n",
              "        await google.colab.output.renderOutput(dataTable, element);\n",
              "        const docLink = document.createElement('div');\n",
              "        docLink.innerHTML = docLinkHtml;\n",
              "        element.appendChild(docLink);\n",
              "      }\n",
              "    </script>\n",
              "  </div>\n",
              "\n",
              "\n",
              "<div id=\"df-bb139160-7434-4f22-a602-52098b542e3c\">\n",
              "  <button class=\"colab-df-quickchart\" onclick=\"quickchart('df-bb139160-7434-4f22-a602-52098b542e3c')\"\n",
              "            title=\"Suggest charts.\"\n",
              "            style=\"display:none;\">\n",
              "\n",
              "<svg xmlns=\"http://www.w3.org/2000/svg\" height=\"24px\"viewBox=\"0 0 24 24\"\n",
              "     width=\"24px\">\n",
              "    <g>\n",
              "        <path d=\"M19 3H5c-1.1 0-2 .9-2 2v14c0 1.1.9 2 2 2h14c1.1 0 2-.9 2-2V5c0-1.1-.9-2-2-2zM9 17H7v-7h2v7zm4 0h-2V7h2v10zm4 0h-2v-4h2v4z\"/>\n",
              "    </g>\n",
              "</svg>\n",
              "  </button>\n",
              "\n",
              "<style>\n",
              "  .colab-df-quickchart {\n",
              "      --bg-color: #E8F0FE;\n",
              "      --fill-color: #1967D2;\n",
              "      --hover-bg-color: #E2EBFA;\n",
              "      --hover-fill-color: #174EA6;\n",
              "      --disabled-fill-color: #AAA;\n",
              "      --disabled-bg-color: #DDD;\n",
              "  }\n",
              "\n",
              "  [theme=dark] .colab-df-quickchart {\n",
              "      --bg-color: #3B4455;\n",
              "      --fill-color: #D2E3FC;\n",
              "      --hover-bg-color: #434B5C;\n",
              "      --hover-fill-color: #FFFFFF;\n",
              "      --disabled-bg-color: #3B4455;\n",
              "      --disabled-fill-color: #666;\n",
              "  }\n",
              "\n",
              "  .colab-df-quickchart {\n",
              "    background-color: var(--bg-color);\n",
              "    border: none;\n",
              "    border-radius: 50%;\n",
              "    cursor: pointer;\n",
              "    display: none;\n",
              "    fill: var(--fill-color);\n",
              "    height: 32px;\n",
              "    padding: 0;\n",
              "    width: 32px;\n",
              "  }\n",
              "\n",
              "  .colab-df-quickchart:hover {\n",
              "    background-color: var(--hover-bg-color);\n",
              "    box-shadow: 0 1px 2px rgba(60, 64, 67, 0.3), 0 1px 3px 1px rgba(60, 64, 67, 0.15);\n",
              "    fill: var(--button-hover-fill-color);\n",
              "  }\n",
              "\n",
              "  .colab-df-quickchart-complete:disabled,\n",
              "  .colab-df-quickchart-complete:disabled:hover {\n",
              "    background-color: var(--disabled-bg-color);\n",
              "    fill: var(--disabled-fill-color);\n",
              "    box-shadow: none;\n",
              "  }\n",
              "\n",
              "  .colab-df-spinner {\n",
              "    border: 2px solid var(--fill-color);\n",
              "    border-color: transparent;\n",
              "    border-bottom-color: var(--fill-color);\n",
              "    animation:\n",
              "      spin 1s steps(1) infinite;\n",
              "  }\n",
              "\n",
              "  @keyframes spin {\n",
              "    0% {\n",
              "      border-color: transparent;\n",
              "      border-bottom-color: var(--fill-color);\n",
              "      border-left-color: var(--fill-color);\n",
              "    }\n",
              "    20% {\n",
              "      border-color: transparent;\n",
              "      border-left-color: var(--fill-color);\n",
              "      border-top-color: var(--fill-color);\n",
              "    }\n",
              "    30% {\n",
              "      border-color: transparent;\n",
              "      border-left-color: var(--fill-color);\n",
              "      border-top-color: var(--fill-color);\n",
              "      border-right-color: var(--fill-color);\n",
              "    }\n",
              "    40% {\n",
              "      border-color: transparent;\n",
              "      border-right-color: var(--fill-color);\n",
              "      border-top-color: var(--fill-color);\n",
              "    }\n",
              "    60% {\n",
              "      border-color: transparent;\n",
              "      border-right-color: var(--fill-color);\n",
              "    }\n",
              "    80% {\n",
              "      border-color: transparent;\n",
              "      border-right-color: var(--fill-color);\n",
              "      border-bottom-color: var(--fill-color);\n",
              "    }\n",
              "    90% {\n",
              "      border-color: transparent;\n",
              "      border-bottom-color: var(--fill-color);\n",
              "    }\n",
              "  }\n",
              "</style>\n",
              "\n",
              "  <script>\n",
              "    async function quickchart(key) {\n",
              "      const quickchartButtonEl =\n",
              "        document.querySelector('#' + key + ' button');\n",
              "      quickchartButtonEl.disabled = true;  // To prevent multiple clicks.\n",
              "      quickchartButtonEl.classList.add('colab-df-spinner');\n",
              "      try {\n",
              "        const charts = await google.colab.kernel.invokeFunction(\n",
              "            'suggestCharts', [key], {});\n",
              "      } catch (error) {\n",
              "        console.error('Error during call to suggestCharts:', error);\n",
              "      }\n",
              "      quickchartButtonEl.classList.remove('colab-df-spinner');\n",
              "      quickchartButtonEl.classList.add('colab-df-quickchart-complete');\n",
              "    }\n",
              "    (() => {\n",
              "      let quickchartButtonEl =\n",
              "        document.querySelector('#df-bb139160-7434-4f22-a602-52098b542e3c button');\n",
              "      quickchartButtonEl.style.display =\n",
              "        google.colab.kernel.accessAllowed ? 'block' : 'none';\n",
              "    })();\n",
              "  </script>\n",
              "</div>\n",
              "    </div>\n",
              "  </div>\n"
            ]
          },
          "metadata": {},
          "execution_count": 75
        }
      ]
    },
    {
      "cell_type": "code",
      "source": [
        "# Encode categorical data\n",
        "def encode_data(dataframe):\n",
        "    if dataframe.dtype == \"object\":\n",
        "        dataframe = LabelEncoder().fit_transform(dataframe)\n",
        "    return dataframe\n",
        "\n",
        "df = df.apply(lambda x: encode_data(x))\n",
        "df.head()"
      ],
      "metadata": {
        "colab": {
          "base_uri": "https://localhost:8080/",
          "height": 243
        },
        "id": "c9fKFkHo5n1g",
        "outputId": "2ebda307-64ec-4910-eef6-2e4d538cb649"
      },
      "execution_count": 76,
      "outputs": [
        {
          "output_type": "execute_result",
          "data": {
            "text/plain": [
              "   Unnamed: 0.1  Unnamed: 0  Customer_ID  Tenure_Months  Location  \\\n",
              "0             0           0            0              2         1   \n",
              "1             1           1            1              2         1   \n",
              "2             2           2            2              8         1   \n",
              "3             3           3            3             28         1   \n",
              "4             4           4            4             49         1   \n",
              "\n",
              "   Device_Class  Games_Product  Music_Product  Education_Product  Call_Center  \\\n",
              "0             2              2              2                  0            0   \n",
              "1             0              0              0                  0            0   \n",
              "2             0              0              0                  2            0   \n",
              "3             0              0              0                  2            1   \n",
              "4             0              0              2                  2            0   \n",
              "\n",
              "   Video_Product  Use_MyApp  Payment_Method  Monthly_Purchase_Th_IDR  \\\n",
              "0              0          0               2                   70.005   \n",
              "1              0          0               3                   91.910   \n",
              "2              2          2               3                  129.545   \n",
              "3              2          2               3                  136.240   \n",
              "4              2          2               1                  134.810   \n",
              "\n",
              "   Churn_Label   Longitude  Latitude  CLTV_Th_IDR_Pred  \n",
              "0            1  106.816666      -6.2            4210.7  \n",
              "1            1  106.816666      -6.2            3511.3  \n",
              "2            1  106.816666      -6.2            6983.6  \n",
              "3            1  106.816666      -6.2            6503.9  \n",
              "4            1  106.816666      -6.2            6942.0  "
            ],
            "text/html": [
              "\n",
              "  <div id=\"df-d20ff3ae-1311-422d-baa0-7fb6cdb980df\" class=\"colab-df-container\">\n",
              "    <div>\n",
              "<style scoped>\n",
              "    .dataframe tbody tr th:only-of-type {\n",
              "        vertical-align: middle;\n",
              "    }\n",
              "\n",
              "    .dataframe tbody tr th {\n",
              "        vertical-align: top;\n",
              "    }\n",
              "\n",
              "    .dataframe thead th {\n",
              "        text-align: right;\n",
              "    }\n",
              "</style>\n",
              "<table border=\"1\" class=\"dataframe\">\n",
              "  <thead>\n",
              "    <tr style=\"text-align: right;\">\n",
              "      <th></th>\n",
              "      <th>Unnamed: 0.1</th>\n",
              "      <th>Unnamed: 0</th>\n",
              "      <th>Customer_ID</th>\n",
              "      <th>Tenure_Months</th>\n",
              "      <th>Location</th>\n",
              "      <th>Device_Class</th>\n",
              "      <th>Games_Product</th>\n",
              "      <th>Music_Product</th>\n",
              "      <th>Education_Product</th>\n",
              "      <th>Call_Center</th>\n",
              "      <th>Video_Product</th>\n",
              "      <th>Use_MyApp</th>\n",
              "      <th>Payment_Method</th>\n",
              "      <th>Monthly_Purchase_Th_IDR</th>\n",
              "      <th>Churn_Label</th>\n",
              "      <th>Longitude</th>\n",
              "      <th>Latitude</th>\n",
              "      <th>CLTV_Th_IDR_Pred</th>\n",
              "    </tr>\n",
              "  </thead>\n",
              "  <tbody>\n",
              "    <tr>\n",
              "      <th>0</th>\n",
              "      <td>0</td>\n",
              "      <td>0</td>\n",
              "      <td>0</td>\n",
              "      <td>2</td>\n",
              "      <td>1</td>\n",
              "      <td>2</td>\n",
              "      <td>2</td>\n",
              "      <td>2</td>\n",
              "      <td>0</td>\n",
              "      <td>0</td>\n",
              "      <td>0</td>\n",
              "      <td>0</td>\n",
              "      <td>2</td>\n",
              "      <td>70.005</td>\n",
              "      <td>1</td>\n",
              "      <td>106.816666</td>\n",
              "      <td>-6.2</td>\n",
              "      <td>4210.7</td>\n",
              "    </tr>\n",
              "    <tr>\n",
              "      <th>1</th>\n",
              "      <td>1</td>\n",
              "      <td>1</td>\n",
              "      <td>1</td>\n",
              "      <td>2</td>\n",
              "      <td>1</td>\n",
              "      <td>0</td>\n",
              "      <td>0</td>\n",
              "      <td>0</td>\n",
              "      <td>0</td>\n",
              "      <td>0</td>\n",
              "      <td>0</td>\n",
              "      <td>0</td>\n",
              "      <td>3</td>\n",
              "      <td>91.910</td>\n",
              "      <td>1</td>\n",
              "      <td>106.816666</td>\n",
              "      <td>-6.2</td>\n",
              "      <td>3511.3</td>\n",
              "    </tr>\n",
              "    <tr>\n",
              "      <th>2</th>\n",
              "      <td>2</td>\n",
              "      <td>2</td>\n",
              "      <td>2</td>\n",
              "      <td>8</td>\n",
              "      <td>1</td>\n",
              "      <td>0</td>\n",
              "      <td>0</td>\n",
              "      <td>0</td>\n",
              "      <td>2</td>\n",
              "      <td>0</td>\n",
              "      <td>2</td>\n",
              "      <td>2</td>\n",
              "      <td>3</td>\n",
              "      <td>129.545</td>\n",
              "      <td>1</td>\n",
              "      <td>106.816666</td>\n",
              "      <td>-6.2</td>\n",
              "      <td>6983.6</td>\n",
              "    </tr>\n",
              "    <tr>\n",
              "      <th>3</th>\n",
              "      <td>3</td>\n",
              "      <td>3</td>\n",
              "      <td>3</td>\n",
              "      <td>28</td>\n",
              "      <td>1</td>\n",
              "      <td>0</td>\n",
              "      <td>0</td>\n",
              "      <td>0</td>\n",
              "      <td>2</td>\n",
              "      <td>1</td>\n",
              "      <td>2</td>\n",
              "      <td>2</td>\n",
              "      <td>3</td>\n",
              "      <td>136.240</td>\n",
              "      <td>1</td>\n",
              "      <td>106.816666</td>\n",
              "      <td>-6.2</td>\n",
              "      <td>6503.9</td>\n",
              "    </tr>\n",
              "    <tr>\n",
              "      <th>4</th>\n",
              "      <td>4</td>\n",
              "      <td>4</td>\n",
              "      <td>4</td>\n",
              "      <td>49</td>\n",
              "      <td>1</td>\n",
              "      <td>0</td>\n",
              "      <td>0</td>\n",
              "      <td>2</td>\n",
              "      <td>2</td>\n",
              "      <td>0</td>\n",
              "      <td>2</td>\n",
              "      <td>2</td>\n",
              "      <td>1</td>\n",
              "      <td>134.810</td>\n",
              "      <td>1</td>\n",
              "      <td>106.816666</td>\n",
              "      <td>-6.2</td>\n",
              "      <td>6942.0</td>\n",
              "    </tr>\n",
              "  </tbody>\n",
              "</table>\n",
              "</div>\n",
              "    <div class=\"colab-df-buttons\">\n",
              "\n",
              "  <div class=\"colab-df-container\">\n",
              "    <button class=\"colab-df-convert\" onclick=\"convertToInteractive('df-d20ff3ae-1311-422d-baa0-7fb6cdb980df')\"\n",
              "            title=\"Convert this dataframe to an interactive table.\"\n",
              "            style=\"display:none;\">\n",
              "\n",
              "  <svg xmlns=\"http://www.w3.org/2000/svg\" height=\"24px\" viewBox=\"0 -960 960 960\">\n",
              "    <path d=\"M120-120v-720h720v720H120Zm60-500h600v-160H180v160Zm220 220h160v-160H400v160Zm0 220h160v-160H400v160ZM180-400h160v-160H180v160Zm440 0h160v-160H620v160ZM180-180h160v-160H180v160Zm440 0h160v-160H620v160Z\"/>\n",
              "  </svg>\n",
              "    </button>\n",
              "\n",
              "  <style>\n",
              "    .colab-df-container {\n",
              "      display:flex;\n",
              "      gap: 12px;\n",
              "    }\n",
              "\n",
              "    .colab-df-convert {\n",
              "      background-color: #E8F0FE;\n",
              "      border: none;\n",
              "      border-radius: 50%;\n",
              "      cursor: pointer;\n",
              "      display: none;\n",
              "      fill: #1967D2;\n",
              "      height: 32px;\n",
              "      padding: 0 0 0 0;\n",
              "      width: 32px;\n",
              "    }\n",
              "\n",
              "    .colab-df-convert:hover {\n",
              "      background-color: #E2EBFA;\n",
              "      box-shadow: 0px 1px 2px rgba(60, 64, 67, 0.3), 0px 1px 3px 1px rgba(60, 64, 67, 0.15);\n",
              "      fill: #174EA6;\n",
              "    }\n",
              "\n",
              "    .colab-df-buttons div {\n",
              "      margin-bottom: 4px;\n",
              "    }\n",
              "\n",
              "    [theme=dark] .colab-df-convert {\n",
              "      background-color: #3B4455;\n",
              "      fill: #D2E3FC;\n",
              "    }\n",
              "\n",
              "    [theme=dark] .colab-df-convert:hover {\n",
              "      background-color: #434B5C;\n",
              "      box-shadow: 0px 1px 3px 1px rgba(0, 0, 0, 0.15);\n",
              "      filter: drop-shadow(0px 1px 2px rgba(0, 0, 0, 0.3));\n",
              "      fill: #FFFFFF;\n",
              "    }\n",
              "  </style>\n",
              "\n",
              "    <script>\n",
              "      const buttonEl =\n",
              "        document.querySelector('#df-d20ff3ae-1311-422d-baa0-7fb6cdb980df button.colab-df-convert');\n",
              "      buttonEl.style.display =\n",
              "        google.colab.kernel.accessAllowed ? 'block' : 'none';\n",
              "\n",
              "      async function convertToInteractive(key) {\n",
              "        const element = document.querySelector('#df-d20ff3ae-1311-422d-baa0-7fb6cdb980df');\n",
              "        const dataTable =\n",
              "          await google.colab.kernel.invokeFunction('convertToInteractive',\n",
              "                                                    [key], {});\n",
              "        if (!dataTable) return;\n",
              "\n",
              "        const docLinkHtml = 'Like what you see? Visit the ' +\n",
              "          '<a target=\"_blank\" href=https://colab.research.google.com/notebooks/data_table.ipynb>data table notebook</a>'\n",
              "          + ' to learn more about interactive tables.';\n",
              "        element.innerHTML = '';\n",
              "        dataTable['output_type'] = 'display_data';\n",
              "        await google.colab.output.renderOutput(dataTable, element);\n",
              "        const docLink = document.createElement('div');\n",
              "        docLink.innerHTML = docLinkHtml;\n",
              "        element.appendChild(docLink);\n",
              "      }\n",
              "    </script>\n",
              "  </div>\n",
              "\n",
              "\n",
              "<div id=\"df-bcde96ee-3ea2-4ccd-8924-2ebd4ffa8d5b\">\n",
              "  <button class=\"colab-df-quickchart\" onclick=\"quickchart('df-bcde96ee-3ea2-4ccd-8924-2ebd4ffa8d5b')\"\n",
              "            title=\"Suggest charts.\"\n",
              "            style=\"display:none;\">\n",
              "\n",
              "<svg xmlns=\"http://www.w3.org/2000/svg\" height=\"24px\"viewBox=\"0 0 24 24\"\n",
              "     width=\"24px\">\n",
              "    <g>\n",
              "        <path d=\"M19 3H5c-1.1 0-2 .9-2 2v14c0 1.1.9 2 2 2h14c1.1 0 2-.9 2-2V5c0-1.1-.9-2-2-2zM9 17H7v-7h2v7zm4 0h-2V7h2v10zm4 0h-2v-4h2v4z\"/>\n",
              "    </g>\n",
              "</svg>\n",
              "  </button>\n",
              "\n",
              "<style>\n",
              "  .colab-df-quickchart {\n",
              "      --bg-color: #E8F0FE;\n",
              "      --fill-color: #1967D2;\n",
              "      --hover-bg-color: #E2EBFA;\n",
              "      --hover-fill-color: #174EA6;\n",
              "      --disabled-fill-color: #AAA;\n",
              "      --disabled-bg-color: #DDD;\n",
              "  }\n",
              "\n",
              "  [theme=dark] .colab-df-quickchart {\n",
              "      --bg-color: #3B4455;\n",
              "      --fill-color: #D2E3FC;\n",
              "      --hover-bg-color: #434B5C;\n",
              "      --hover-fill-color: #FFFFFF;\n",
              "      --disabled-bg-color: #3B4455;\n",
              "      --disabled-fill-color: #666;\n",
              "  }\n",
              "\n",
              "  .colab-df-quickchart {\n",
              "    background-color: var(--bg-color);\n",
              "    border: none;\n",
              "    border-radius: 50%;\n",
              "    cursor: pointer;\n",
              "    display: none;\n",
              "    fill: var(--fill-color);\n",
              "    height: 32px;\n",
              "    padding: 0;\n",
              "    width: 32px;\n",
              "  }\n",
              "\n",
              "  .colab-df-quickchart:hover {\n",
              "    background-color: var(--hover-bg-color);\n",
              "    box-shadow: 0 1px 2px rgba(60, 64, 67, 0.3), 0 1px 3px 1px rgba(60, 64, 67, 0.15);\n",
              "    fill: var(--button-hover-fill-color);\n",
              "  }\n",
              "\n",
              "  .colab-df-quickchart-complete:disabled,\n",
              "  .colab-df-quickchart-complete:disabled:hover {\n",
              "    background-color: var(--disabled-bg-color);\n",
              "    fill: var(--disabled-fill-color);\n",
              "    box-shadow: none;\n",
              "  }\n",
              "\n",
              "  .colab-df-spinner {\n",
              "    border: 2px solid var(--fill-color);\n",
              "    border-color: transparent;\n",
              "    border-bottom-color: var(--fill-color);\n",
              "    animation:\n",
              "      spin 1s steps(1) infinite;\n",
              "  }\n",
              "\n",
              "  @keyframes spin {\n",
              "    0% {\n",
              "      border-color: transparent;\n",
              "      border-bottom-color: var(--fill-color);\n",
              "      border-left-color: var(--fill-color);\n",
              "    }\n",
              "    20% {\n",
              "      border-color: transparent;\n",
              "      border-left-color: var(--fill-color);\n",
              "      border-top-color: var(--fill-color);\n",
              "    }\n",
              "    30% {\n",
              "      border-color: transparent;\n",
              "      border-left-color: var(--fill-color);\n",
              "      border-top-color: var(--fill-color);\n",
              "      border-right-color: var(--fill-color);\n",
              "    }\n",
              "    40% {\n",
              "      border-color: transparent;\n",
              "      border-right-color: var(--fill-color);\n",
              "      border-top-color: var(--fill-color);\n",
              "    }\n",
              "    60% {\n",
              "      border-color: transparent;\n",
              "      border-right-color: var(--fill-color);\n",
              "    }\n",
              "    80% {\n",
              "      border-color: transparent;\n",
              "      border-right-color: var(--fill-color);\n",
              "      border-bottom-color: var(--fill-color);\n",
              "    }\n",
              "    90% {\n",
              "      border-color: transparent;\n",
              "      border-bottom-color: var(--fill-color);\n",
              "    }\n",
              "  }\n",
              "</style>\n",
              "\n",
              "  <script>\n",
              "    async function quickchart(key) {\n",
              "      const quickchartButtonEl =\n",
              "        document.querySelector('#' + key + ' button');\n",
              "      quickchartButtonEl.disabled = true;  // To prevent multiple clicks.\n",
              "      quickchartButtonEl.classList.add('colab-df-spinner');\n",
              "      try {\n",
              "        const charts = await google.colab.kernel.invokeFunction(\n",
              "            'suggestCharts', [key], {});\n",
              "      } catch (error) {\n",
              "        console.error('Error during call to suggestCharts:', error);\n",
              "      }\n",
              "      quickchartButtonEl.classList.remove('colab-df-spinner');\n",
              "      quickchartButtonEl.classList.add('colab-df-quickchart-complete');\n",
              "    }\n",
              "    (() => {\n",
              "      let quickchartButtonEl =\n",
              "        document.querySelector('#df-bcde96ee-3ea2-4ccd-8924-2ebd4ffa8d5b button');\n",
              "      quickchartButtonEl.style.display =\n",
              "        google.colab.kernel.accessAllowed ? 'block' : 'none';\n",
              "    })();\n",
              "  </script>\n",
              "</div>\n",
              "    </div>\n",
              "  </div>\n"
            ]
          },
          "metadata": {},
          "execution_count": 76
        }
      ]
    },
    {
      "cell_type": "code",
      "source": [
        "# Define X and y\n",
        "X = df.drop(columns = [\"Churn_Label\", 'Unnamed: 0', 'Unnamed: 0.1' , 'Customer_ID', 'Longitude', 'Latitude'])\n",
        "y = df[\"Churn_Label\"]"
      ],
      "metadata": {
        "id": "BYcQwLuj6QIN"
      },
      "execution_count": 77,
      "outputs": []
    },
    {
      "cell_type": "code",
      "source": [
        "# Check X\n",
        "X.head()"
      ],
      "metadata": {
        "colab": {
          "base_uri": "https://localhost:8080/",
          "height": 226
        },
        "id": "DTU5ACm66ZcT",
        "outputId": "5674c4ce-61db-4029-c9c1-b50bc0dd71c8"
      },
      "execution_count": 78,
      "outputs": [
        {
          "output_type": "execute_result",
          "data": {
            "text/plain": [
              "   Tenure_Months  Location  Device_Class  Games_Product  Music_Product  \\\n",
              "0              2         1             2              2              2   \n",
              "1              2         1             0              0              0   \n",
              "2              8         1             0              0              0   \n",
              "3             28         1             0              0              0   \n",
              "4             49         1             0              0              2   \n",
              "\n",
              "   Education_Product  Call_Center  Video_Product  Use_MyApp  Payment_Method  \\\n",
              "0                  0            0              0          0               2   \n",
              "1                  0            0              0          0               3   \n",
              "2                  2            0              2          2               3   \n",
              "3                  2            1              2          2               3   \n",
              "4                  2            0              2          2               1   \n",
              "\n",
              "   Monthly_Purchase_Th_IDR  CLTV_Th_IDR_Pred  \n",
              "0                   70.005            4210.7  \n",
              "1                   91.910            3511.3  \n",
              "2                  129.545            6983.6  \n",
              "3                  136.240            6503.9  \n",
              "4                  134.810            6942.0  "
            ],
            "text/html": [
              "\n",
              "  <div id=\"df-ac4b2368-f62b-4f4a-808c-840bbc4d52aa\" class=\"colab-df-container\">\n",
              "    <div>\n",
              "<style scoped>\n",
              "    .dataframe tbody tr th:only-of-type {\n",
              "        vertical-align: middle;\n",
              "    }\n",
              "\n",
              "    .dataframe tbody tr th {\n",
              "        vertical-align: top;\n",
              "    }\n",
              "\n",
              "    .dataframe thead th {\n",
              "        text-align: right;\n",
              "    }\n",
              "</style>\n",
              "<table border=\"1\" class=\"dataframe\">\n",
              "  <thead>\n",
              "    <tr style=\"text-align: right;\">\n",
              "      <th></th>\n",
              "      <th>Tenure_Months</th>\n",
              "      <th>Location</th>\n",
              "      <th>Device_Class</th>\n",
              "      <th>Games_Product</th>\n",
              "      <th>Music_Product</th>\n",
              "      <th>Education_Product</th>\n",
              "      <th>Call_Center</th>\n",
              "      <th>Video_Product</th>\n",
              "      <th>Use_MyApp</th>\n",
              "      <th>Payment_Method</th>\n",
              "      <th>Monthly_Purchase_Th_IDR</th>\n",
              "      <th>CLTV_Th_IDR_Pred</th>\n",
              "    </tr>\n",
              "  </thead>\n",
              "  <tbody>\n",
              "    <tr>\n",
              "      <th>0</th>\n",
              "      <td>2</td>\n",
              "      <td>1</td>\n",
              "      <td>2</td>\n",
              "      <td>2</td>\n",
              "      <td>2</td>\n",
              "      <td>0</td>\n",
              "      <td>0</td>\n",
              "      <td>0</td>\n",
              "      <td>0</td>\n",
              "      <td>2</td>\n",
              "      <td>70.005</td>\n",
              "      <td>4210.7</td>\n",
              "    </tr>\n",
              "    <tr>\n",
              "      <th>1</th>\n",
              "      <td>2</td>\n",
              "      <td>1</td>\n",
              "      <td>0</td>\n",
              "      <td>0</td>\n",
              "      <td>0</td>\n",
              "      <td>0</td>\n",
              "      <td>0</td>\n",
              "      <td>0</td>\n",
              "      <td>0</td>\n",
              "      <td>3</td>\n",
              "      <td>91.910</td>\n",
              "      <td>3511.3</td>\n",
              "    </tr>\n",
              "    <tr>\n",
              "      <th>2</th>\n",
              "      <td>8</td>\n",
              "      <td>1</td>\n",
              "      <td>0</td>\n",
              "      <td>0</td>\n",
              "      <td>0</td>\n",
              "      <td>2</td>\n",
              "      <td>0</td>\n",
              "      <td>2</td>\n",
              "      <td>2</td>\n",
              "      <td>3</td>\n",
              "      <td>129.545</td>\n",
              "      <td>6983.6</td>\n",
              "    </tr>\n",
              "    <tr>\n",
              "      <th>3</th>\n",
              "      <td>28</td>\n",
              "      <td>1</td>\n",
              "      <td>0</td>\n",
              "      <td>0</td>\n",
              "      <td>0</td>\n",
              "      <td>2</td>\n",
              "      <td>1</td>\n",
              "      <td>2</td>\n",
              "      <td>2</td>\n",
              "      <td>3</td>\n",
              "      <td>136.240</td>\n",
              "      <td>6503.9</td>\n",
              "    </tr>\n",
              "    <tr>\n",
              "      <th>4</th>\n",
              "      <td>49</td>\n",
              "      <td>1</td>\n",
              "      <td>0</td>\n",
              "      <td>0</td>\n",
              "      <td>2</td>\n",
              "      <td>2</td>\n",
              "      <td>0</td>\n",
              "      <td>2</td>\n",
              "      <td>2</td>\n",
              "      <td>1</td>\n",
              "      <td>134.810</td>\n",
              "      <td>6942.0</td>\n",
              "    </tr>\n",
              "  </tbody>\n",
              "</table>\n",
              "</div>\n",
              "    <div class=\"colab-df-buttons\">\n",
              "\n",
              "  <div class=\"colab-df-container\">\n",
              "    <button class=\"colab-df-convert\" onclick=\"convertToInteractive('df-ac4b2368-f62b-4f4a-808c-840bbc4d52aa')\"\n",
              "            title=\"Convert this dataframe to an interactive table.\"\n",
              "            style=\"display:none;\">\n",
              "\n",
              "  <svg xmlns=\"http://www.w3.org/2000/svg\" height=\"24px\" viewBox=\"0 -960 960 960\">\n",
              "    <path d=\"M120-120v-720h720v720H120Zm60-500h600v-160H180v160Zm220 220h160v-160H400v160Zm0 220h160v-160H400v160ZM180-400h160v-160H180v160Zm440 0h160v-160H620v160ZM180-180h160v-160H180v160Zm440 0h160v-160H620v160Z\"/>\n",
              "  </svg>\n",
              "    </button>\n",
              "\n",
              "  <style>\n",
              "    .colab-df-container {\n",
              "      display:flex;\n",
              "      gap: 12px;\n",
              "    }\n",
              "\n",
              "    .colab-df-convert {\n",
              "      background-color: #E8F0FE;\n",
              "      border: none;\n",
              "      border-radius: 50%;\n",
              "      cursor: pointer;\n",
              "      display: none;\n",
              "      fill: #1967D2;\n",
              "      height: 32px;\n",
              "      padding: 0 0 0 0;\n",
              "      width: 32px;\n",
              "    }\n",
              "\n",
              "    .colab-df-convert:hover {\n",
              "      background-color: #E2EBFA;\n",
              "      box-shadow: 0px 1px 2px rgba(60, 64, 67, 0.3), 0px 1px 3px 1px rgba(60, 64, 67, 0.15);\n",
              "      fill: #174EA6;\n",
              "    }\n",
              "\n",
              "    .colab-df-buttons div {\n",
              "      margin-bottom: 4px;\n",
              "    }\n",
              "\n",
              "    [theme=dark] .colab-df-convert {\n",
              "      background-color: #3B4455;\n",
              "      fill: #D2E3FC;\n",
              "    }\n",
              "\n",
              "    [theme=dark] .colab-df-convert:hover {\n",
              "      background-color: #434B5C;\n",
              "      box-shadow: 0px 1px 3px 1px rgba(0, 0, 0, 0.15);\n",
              "      filter: drop-shadow(0px 1px 2px rgba(0, 0, 0, 0.3));\n",
              "      fill: #FFFFFF;\n",
              "    }\n",
              "  </style>\n",
              "\n",
              "    <script>\n",
              "      const buttonEl =\n",
              "        document.querySelector('#df-ac4b2368-f62b-4f4a-808c-840bbc4d52aa button.colab-df-convert');\n",
              "      buttonEl.style.display =\n",
              "        google.colab.kernel.accessAllowed ? 'block' : 'none';\n",
              "\n",
              "      async function convertToInteractive(key) {\n",
              "        const element = document.querySelector('#df-ac4b2368-f62b-4f4a-808c-840bbc4d52aa');\n",
              "        const dataTable =\n",
              "          await google.colab.kernel.invokeFunction('convertToInteractive',\n",
              "                                                    [key], {});\n",
              "        if (!dataTable) return;\n",
              "\n",
              "        const docLinkHtml = 'Like what you see? Visit the ' +\n",
              "          '<a target=\"_blank\" href=https://colab.research.google.com/notebooks/data_table.ipynb>data table notebook</a>'\n",
              "          + ' to learn more about interactive tables.';\n",
              "        element.innerHTML = '';\n",
              "        dataTable['output_type'] = 'display_data';\n",
              "        await google.colab.output.renderOutput(dataTable, element);\n",
              "        const docLink = document.createElement('div');\n",
              "        docLink.innerHTML = docLinkHtml;\n",
              "        element.appendChild(docLink);\n",
              "      }\n",
              "    </script>\n",
              "  </div>\n",
              "\n",
              "\n",
              "<div id=\"df-27539b66-724a-44cd-95b9-4eaaa663bd29\">\n",
              "  <button class=\"colab-df-quickchart\" onclick=\"quickchart('df-27539b66-724a-44cd-95b9-4eaaa663bd29')\"\n",
              "            title=\"Suggest charts.\"\n",
              "            style=\"display:none;\">\n",
              "\n",
              "<svg xmlns=\"http://www.w3.org/2000/svg\" height=\"24px\"viewBox=\"0 0 24 24\"\n",
              "     width=\"24px\">\n",
              "    <g>\n",
              "        <path d=\"M19 3H5c-1.1 0-2 .9-2 2v14c0 1.1.9 2 2 2h14c1.1 0 2-.9 2-2V5c0-1.1-.9-2-2-2zM9 17H7v-7h2v7zm4 0h-2V7h2v10zm4 0h-2v-4h2v4z\"/>\n",
              "    </g>\n",
              "</svg>\n",
              "  </button>\n",
              "\n",
              "<style>\n",
              "  .colab-df-quickchart {\n",
              "      --bg-color: #E8F0FE;\n",
              "      --fill-color: #1967D2;\n",
              "      --hover-bg-color: #E2EBFA;\n",
              "      --hover-fill-color: #174EA6;\n",
              "      --disabled-fill-color: #AAA;\n",
              "      --disabled-bg-color: #DDD;\n",
              "  }\n",
              "\n",
              "  [theme=dark] .colab-df-quickchart {\n",
              "      --bg-color: #3B4455;\n",
              "      --fill-color: #D2E3FC;\n",
              "      --hover-bg-color: #434B5C;\n",
              "      --hover-fill-color: #FFFFFF;\n",
              "      --disabled-bg-color: #3B4455;\n",
              "      --disabled-fill-color: #666;\n",
              "  }\n",
              "\n",
              "  .colab-df-quickchart {\n",
              "    background-color: var(--bg-color);\n",
              "    border: none;\n",
              "    border-radius: 50%;\n",
              "    cursor: pointer;\n",
              "    display: none;\n",
              "    fill: var(--fill-color);\n",
              "    height: 32px;\n",
              "    padding: 0;\n",
              "    width: 32px;\n",
              "  }\n",
              "\n",
              "  .colab-df-quickchart:hover {\n",
              "    background-color: var(--hover-bg-color);\n",
              "    box-shadow: 0 1px 2px rgba(60, 64, 67, 0.3), 0 1px 3px 1px rgba(60, 64, 67, 0.15);\n",
              "    fill: var(--button-hover-fill-color);\n",
              "  }\n",
              "\n",
              "  .colab-df-quickchart-complete:disabled,\n",
              "  .colab-df-quickchart-complete:disabled:hover {\n",
              "    background-color: var(--disabled-bg-color);\n",
              "    fill: var(--disabled-fill-color);\n",
              "    box-shadow: none;\n",
              "  }\n",
              "\n",
              "  .colab-df-spinner {\n",
              "    border: 2px solid var(--fill-color);\n",
              "    border-color: transparent;\n",
              "    border-bottom-color: var(--fill-color);\n",
              "    animation:\n",
              "      spin 1s steps(1) infinite;\n",
              "  }\n",
              "\n",
              "  @keyframes spin {\n",
              "    0% {\n",
              "      border-color: transparent;\n",
              "      border-bottom-color: var(--fill-color);\n",
              "      border-left-color: var(--fill-color);\n",
              "    }\n",
              "    20% {\n",
              "      border-color: transparent;\n",
              "      border-left-color: var(--fill-color);\n",
              "      border-top-color: var(--fill-color);\n",
              "    }\n",
              "    30% {\n",
              "      border-color: transparent;\n",
              "      border-left-color: var(--fill-color);\n",
              "      border-top-color: var(--fill-color);\n",
              "      border-right-color: var(--fill-color);\n",
              "    }\n",
              "    40% {\n",
              "      border-color: transparent;\n",
              "      border-right-color: var(--fill-color);\n",
              "      border-top-color: var(--fill-color);\n",
              "    }\n",
              "    60% {\n",
              "      border-color: transparent;\n",
              "      border-right-color: var(--fill-color);\n",
              "    }\n",
              "    80% {\n",
              "      border-color: transparent;\n",
              "      border-right-color: var(--fill-color);\n",
              "      border-bottom-color: var(--fill-color);\n",
              "    }\n",
              "    90% {\n",
              "      border-color: transparent;\n",
              "      border-bottom-color: var(--fill-color);\n",
              "    }\n",
              "  }\n",
              "</style>\n",
              "\n",
              "  <script>\n",
              "    async function quickchart(key) {\n",
              "      const quickchartButtonEl =\n",
              "        document.querySelector('#' + key + ' button');\n",
              "      quickchartButtonEl.disabled = true;  // To prevent multiple clicks.\n",
              "      quickchartButtonEl.classList.add('colab-df-spinner');\n",
              "      try {\n",
              "        const charts = await google.colab.kernel.invokeFunction(\n",
              "            'suggestCharts', [key], {});\n",
              "      } catch (error) {\n",
              "        console.error('Error during call to suggestCharts:', error);\n",
              "      }\n",
              "      quickchartButtonEl.classList.remove('colab-df-spinner');\n",
              "      quickchartButtonEl.classList.add('colab-df-quickchart-complete');\n",
              "    }\n",
              "    (() => {\n",
              "      let quickchartButtonEl =\n",
              "        document.querySelector('#df-27539b66-724a-44cd-95b9-4eaaa663bd29 button');\n",
              "      quickchartButtonEl.style.display =\n",
              "        google.colab.kernel.accessAllowed ? 'block' : 'none';\n",
              "    })();\n",
              "  </script>\n",
              "</div>\n",
              "    </div>\n",
              "  </div>\n"
            ]
          },
          "metadata": {},
          "execution_count": 78
        }
      ]
    },
    {
      "cell_type": "code",
      "source": [
        "# Check y\n",
        "y.head()"
      ],
      "metadata": {
        "colab": {
          "base_uri": "https://localhost:8080/"
        },
        "id": "zuF8yD-y6a8v",
        "outputId": "5e3e8fa4-397e-4594-ebb9-3d8f57bda0ef"
      },
      "execution_count": 79,
      "outputs": [
        {
          "output_type": "execute_result",
          "data": {
            "text/plain": [
              "0    1\n",
              "1    1\n",
              "2    1\n",
              "3    1\n",
              "4    1\n",
              "Name: Churn_Label, dtype: int64"
            ]
          },
          "metadata": {},
          "execution_count": 79
        }
      ]
    },
    {
      "cell_type": "code",
      "source": [
        "# Define standard scaler\n",
        "scaler = StandardScaler()\n",
        "X_scaled = scaler.fit_transform(X)"
      ],
      "metadata": {
        "id": "UG0D1InE6sGl"
      },
      "execution_count": 80,
      "outputs": []
    },
    {
      "cell_type": "markdown",
      "source": [
        "### Split the data (80:20), random state 42"
      ],
      "metadata": {
        "id": "Q52nmIhA7IHF"
      }
    },
    {
      "cell_type": "code",
      "source": [
        "X_train, X_test, y_train, y_test = train_test_split(X_scaled, y, test_size=0.3, random_state=42)\n",
        "\n",
        "print(X_train.shape)\n",
        "print(X_test.shape)\n",
        "print(y_train.shape)\n",
        "print(y_test.shape)"
      ],
      "metadata": {
        "colab": {
          "base_uri": "https://localhost:8080/"
        },
        "id": "elJ82K5v6eD7",
        "outputId": "98910dec-df25-4a1f-fb83-ebac00183a55"
      },
      "execution_count": 81,
      "outputs": [
        {
          "output_type": "stream",
          "name": "stdout",
          "text": [
            "(4930, 12)\n",
            "(2113, 12)\n",
            "(4930,)\n",
            "(2113,)\n"
          ]
        }
      ]
    },
    {
      "cell_type": "markdown",
      "source": [
        "### Machine Learning Modelling & Selection\n",
        "Logistic Regression, Random Forest Classifier, Decision Tree Claasifier, Gaussian NB, KNeighbors Classifier, SCV, AdaBoost Classifier, GradientBoosting Classifier, XGBoost Classifier, CatBoost Classifier, Neural Network\n"
      ],
      "metadata": {
        "id": "g_eQvS1c8EGC"
      }
    },
    {
      "cell_type": "markdown",
      "source": [
        "#Logistic Regression (LR)"
      ],
      "metadata": {
        "id": "IH8H36ft9iG1"
      }
    },
    {
      "cell_type": "code",
      "source": [
        "# Logistic Regression\n",
        "LM = LogisticRegression()\n",
        "LM.fit(X_train, y_train)\n",
        "y_pred = LM.predict(X_test)\n",
        "\n",
        "print(\"Accuracy Score for Logistic Regression is \", accuracy_score(y_test, y_pred))"
      ],
      "metadata": {
        "colab": {
          "base_uri": "https://localhost:8080/"
        },
        "id": "IIzPidRX7xy4",
        "outputId": "4dddeccb-be55-41a3-cb51-1e928f1d094f"
      },
      "execution_count": 82,
      "outputs": [
        {
          "output_type": "stream",
          "name": "stdout",
          "text": [
            "Accuracy Score for Logistic Regression is  0.7931850449597728\n"
          ]
        }
      ]
    },
    {
      "cell_type": "code",
      "source": [
        "# Report\n",
        "print(classification_report(y_test, y_pred))"
      ],
      "metadata": {
        "colab": {
          "base_uri": "https://localhost:8080/"
        },
        "id": "X-C0bFCl9dqP",
        "outputId": "a4d29669-adf0-44b2-e545-29c0983970c3"
      },
      "execution_count": 83,
      "outputs": [
        {
          "output_type": "stream",
          "name": "stdout",
          "text": [
            "              precision    recall  f1-score   support\n",
            "\n",
            "           0       0.83      0.90      0.86      1525\n",
            "           1       0.67      0.52      0.58       588\n",
            "\n",
            "    accuracy                           0.79      2113\n",
            "   macro avg       0.75      0.71      0.72      2113\n",
            "weighted avg       0.78      0.79      0.78      2113\n",
            "\n"
          ]
        }
      ]
    },
    {
      "cell_type": "markdown",
      "source": [
        "# Random Forest Classifier"
      ],
      "metadata": {
        "id": "QyydgI7F9s5v"
      }
    },
    {
      "cell_type": "code",
      "source": [
        "# Random Forest Classifier\n",
        "LM = RandomForestClassifier()\n",
        "LM.fit(X_train, y_train)\n",
        "y_pred = LM.predict(X_test)\n",
        "\n",
        "print(\"Accuracy Score for Random Forest Classifier is \", accuracy_score(y_test, y_pred))"
      ],
      "metadata": {
        "colab": {
          "base_uri": "https://localhost:8080/"
        },
        "id": "LQa6hIcw9moh",
        "outputId": "bd8ecfb7-ddba-4f0b-f203-3941515d7904"
      },
      "execution_count": 84,
      "outputs": [
        {
          "output_type": "stream",
          "name": "stdout",
          "text": [
            "Accuracy Score for Random Forest Classifier is  0.7775674396592522\n"
          ]
        }
      ]
    },
    {
      "cell_type": "code",
      "source": [
        "# Report\n",
        "print(classification_report(y_test, y_pred))"
      ],
      "metadata": {
        "colab": {
          "base_uri": "https://localhost:8080/"
        },
        "id": "_woLdWaz991i",
        "outputId": "5cf67a78-3df9-4a26-9cb4-982cc6bd65f6"
      },
      "execution_count": 85,
      "outputs": [
        {
          "output_type": "stream",
          "name": "stdout",
          "text": [
            "              precision    recall  f1-score   support\n",
            "\n",
            "           0       0.82      0.89      0.85      1525\n",
            "           1       0.63      0.49      0.55       588\n",
            "\n",
            "    accuracy                           0.78      2113\n",
            "   macro avg       0.72      0.69      0.70      2113\n",
            "weighted avg       0.77      0.78      0.77      2113\n",
            "\n"
          ]
        }
      ]
    },
    {
      "cell_type": "markdown",
      "source": [
        "#Decision Tree Claasifier\n"
      ],
      "metadata": {
        "id": "XFBPOeOM-D9d"
      }
    },
    {
      "cell_type": "code",
      "source": [
        "# Decision Tree Classifier\n",
        "LM = DecisionTreeClassifier()\n",
        "LM.fit(X_train, y_train)\n",
        "y_pred = LM.predict(X_test)\n",
        "\n",
        "print(\"Accuracy Score for Decision Tree Classifier is \", accuracy_score(y_test, y_pred))"
      ],
      "metadata": {
        "colab": {
          "base_uri": "https://localhost:8080/"
        },
        "id": "2vKpTBEj-BDo",
        "outputId": "eaff5be5-aa2c-47e6-8a82-71d57128e864"
      },
      "execution_count": 86,
      "outputs": [
        {
          "output_type": "stream",
          "name": "stdout",
          "text": [
            "Accuracy Score for Decision Tree Classifier is  0.706578324656886\n"
          ]
        }
      ]
    },
    {
      "cell_type": "code",
      "source": [
        "# Report\n",
        "print(classification_report(y_test, y_pred))"
      ],
      "metadata": {
        "colab": {
          "base_uri": "https://localhost:8080/"
        },
        "id": "ldTtWKr9-XLw",
        "outputId": "dca76aa5-29be-476d-8664-58edb5deb371"
      },
      "execution_count": 87,
      "outputs": [
        {
          "output_type": "stream",
          "name": "stdout",
          "text": [
            "              precision    recall  f1-score   support\n",
            "\n",
            "           0       0.80      0.79      0.80      1525\n",
            "           1       0.47      0.48      0.48       588\n",
            "\n",
            "    accuracy                           0.71      2113\n",
            "   macro avg       0.64      0.64      0.64      2113\n",
            "weighted avg       0.71      0.71      0.71      2113\n",
            "\n"
          ]
        }
      ]
    },
    {
      "cell_type": "markdown",
      "source": [
        "#Gaussian NB"
      ],
      "metadata": {
        "id": "qRovW8QI-aua"
      }
    },
    {
      "cell_type": "code",
      "source": [
        "# Gaussian NB\n",
        "LM = GaussianNB()\n",
        "LM.fit(X_train, y_train)\n",
        "y_pred = LM.predict(X_test)\n",
        "\n",
        "print(\"Accuracy Score for Gaussian-NB is \", accuracy_score(y_test, y_pred))"
      ],
      "metadata": {
        "colab": {
          "base_uri": "https://localhost:8080/"
        },
        "id": "B9rUUA5d-dtc",
        "outputId": "9136357c-1452-4ab6-e622-bf0c06d941bf"
      },
      "execution_count": 88,
      "outputs": [
        {
          "output_type": "stream",
          "name": "stdout",
          "text": [
            "Accuracy Score for Gaussian-NB is  0.7714150496923805\n"
          ]
        }
      ]
    },
    {
      "cell_type": "code",
      "source": [
        "# Report\n",
        "print(classification_report(y_test, y_pred))"
      ],
      "metadata": {
        "colab": {
          "base_uri": "https://localhost:8080/"
        },
        "id": "P0JvzMm6-nZR",
        "outputId": "2718c8af-243e-4883-d001-a4bc6f3864f5"
      },
      "execution_count": 89,
      "outputs": [
        {
          "output_type": "stream",
          "name": "stdout",
          "text": [
            "              precision    recall  f1-score   support\n",
            "\n",
            "           0       0.86      0.82      0.84      1525\n",
            "           1       0.58      0.64      0.61       588\n",
            "\n",
            "    accuracy                           0.77      2113\n",
            "   macro avg       0.72      0.73      0.72      2113\n",
            "weighted avg       0.78      0.77      0.77      2113\n",
            "\n"
          ]
        }
      ]
    },
    {
      "cell_type": "markdown",
      "source": [
        "# KNeighbors Classifier"
      ],
      "metadata": {
        "id": "3rccTXoK_UAJ"
      }
    },
    {
      "cell_type": "code",
      "source": [
        "# KNeighbors Classifier\n",
        "LM = KNeighborsClassifier()\n",
        "LM.fit(X_train, y_train)\n",
        "y_pred = LM.predict(X_test)\n",
        "\n",
        "print(\"Accuracy Score for KN Classifier is \", accuracy_score(y_test, y_pred))"
      ],
      "metadata": {
        "colab": {
          "base_uri": "https://localhost:8080/"
        },
        "id": "l9bbUsmS-qQ4",
        "outputId": "e8375e5a-e06d-41d3-903e-31d7a72897b7"
      },
      "execution_count": 90,
      "outputs": [
        {
          "output_type": "stream",
          "name": "stdout",
          "text": [
            "Accuracy Score for KN Classifier is  0.7553241836251775\n"
          ]
        }
      ]
    },
    {
      "cell_type": "code",
      "source": [
        "# Report\n",
        "print(classification_report(y_test, y_pred))"
      ],
      "metadata": {
        "colab": {
          "base_uri": "https://localhost:8080/"
        },
        "id": "2odmRrM7_eKs",
        "outputId": "f658494e-b244-47d5-9adb-5e5a98296a41"
      },
      "execution_count": 91,
      "outputs": [
        {
          "output_type": "stream",
          "name": "stdout",
          "text": [
            "              precision    recall  f1-score   support\n",
            "\n",
            "           0       0.81      0.86      0.84      1525\n",
            "           1       0.57      0.47      0.52       588\n",
            "\n",
            "    accuracy                           0.76      2113\n",
            "   macro avg       0.69      0.67      0.68      2113\n",
            "weighted avg       0.74      0.76      0.75      2113\n",
            "\n"
          ]
        }
      ]
    },
    {
      "cell_type": "markdown",
      "source": [
        "#AdaBoost Classifier"
      ],
      "metadata": {
        "id": "J-F-bACPAOsW"
      }
    },
    {
      "cell_type": "code",
      "source": [
        "# AdaBoost Classifier\n",
        "LM = AdaBoostClassifier()\n",
        "LM.fit(X_train, y_train)\n",
        "y_pred = LM.predict(X_test)\n",
        "\n",
        "print(\"Accuracy Score for AdaBoost Classifier is \", accuracy_score(y_test, y_pred))"
      ],
      "metadata": {
        "colab": {
          "base_uri": "https://localhost:8080/"
        },
        "id": "TM0Cbw9rAS1q",
        "outputId": "b0856318-d16e-4a70-e565-f249b58e3a27"
      },
      "execution_count": 94,
      "outputs": [
        {
          "output_type": "stream",
          "name": "stdout",
          "text": [
            "Accuracy Score for AdaBoost Classifier is  0.79649787032655\n"
          ]
        }
      ]
    },
    {
      "cell_type": "code",
      "source": [
        "# Report\n",
        "print(classification_report(y_test, y_pred))"
      ],
      "metadata": {
        "colab": {
          "base_uri": "https://localhost:8080/"
        },
        "id": "IWk7UTssAaAE",
        "outputId": "ac4eef7c-5c40-408d-8197-67ce86f20dab"
      },
      "execution_count": 95,
      "outputs": [
        {
          "output_type": "stream",
          "name": "stdout",
          "text": [
            "              precision    recall  f1-score   support\n",
            "\n",
            "           0       0.83      0.90      0.87      1525\n",
            "           1       0.68      0.52      0.59       588\n",
            "\n",
            "    accuracy                           0.80      2113\n",
            "   macro avg       0.75      0.71      0.73      2113\n",
            "weighted avg       0.79      0.80      0.79      2113\n",
            "\n"
          ]
        }
      ]
    },
    {
      "cell_type": "markdown",
      "source": [
        "# GradientBoosting Classifier"
      ],
      "metadata": {
        "id": "eZxr1pWzAg8-"
      }
    },
    {
      "cell_type": "code",
      "source": [
        "# GradientBoost Classifier\n",
        "LM = GradientBoostingClassifier()\n",
        "LM.fit(X_train, y_train)\n",
        "y_pred = LM.predict(X_test)\n",
        "\n",
        "print(\"Accuracy Score for GradientBoost Classifier is \", accuracy_score(y_test, y_pred))"
      ],
      "metadata": {
        "colab": {
          "base_uri": "https://localhost:8080/"
        },
        "id": "iTZD0Hd4AgHP",
        "outputId": "7f5146f2-4d15-46b8-892f-1f97ba4e5002"
      },
      "execution_count": 96,
      "outputs": [
        {
          "output_type": "stream",
          "name": "stdout",
          "text": [
            "Accuracy Score for GradientBoost Classifier is  0.7917652626597255\n"
          ]
        }
      ]
    },
    {
      "cell_type": "code",
      "source": [
        "# Report\n",
        "print(classification_report(y_test, y_pred))"
      ],
      "metadata": {
        "colab": {
          "base_uri": "https://localhost:8080/"
        },
        "id": "89BEqG0BAyso",
        "outputId": "cabd6fc5-e8f9-4e83-a9b1-0221d3f6e218"
      },
      "execution_count": 97,
      "outputs": [
        {
          "output_type": "stream",
          "name": "stdout",
          "text": [
            "              precision    recall  f1-score   support\n",
            "\n",
            "           0       0.83      0.89      0.86      1525\n",
            "           1       0.66      0.53      0.59       588\n",
            "\n",
            "    accuracy                           0.79      2113\n",
            "   macro avg       0.74      0.71      0.72      2113\n",
            "weighted avg       0.78      0.79      0.78      2113\n",
            "\n"
          ]
        }
      ]
    },
    {
      "cell_type": "markdown",
      "source": [
        "# Voting Classifier"
      ],
      "metadata": {
        "id": "pLsrvfHOB2OP"
      }
    },
    {
      "cell_type": "code",
      "source": [
        "# Voting Classifier\n",
        "LM = VotingClassifier(estimators=[('gbc', GradientBoostingClassifier()), ('lr', LogisticRegression()), ('abc',  AdaBoostClassifier())], voting='soft')\n",
        "LM.fit(X_train, y_train)\n",
        "y_pred = LM.predict(X_test)\n",
        "\n",
        "print(\"Accuracy Score for Voting Classifier is \", accuracy_score(y_test, y_pred))"
      ],
      "metadata": {
        "colab": {
          "base_uri": "https://localhost:8080/"
        },
        "id": "8OGjF0iwA82j",
        "outputId": "34f235a2-813f-447e-8409-23672e9f952d"
      },
      "execution_count": 98,
      "outputs": [
        {
          "output_type": "stream",
          "name": "stdout",
          "text": [
            "Accuracy Score for Voting Classifier is  0.79649787032655\n"
          ]
        }
      ]
    },
    {
      "cell_type": "code",
      "source": [
        "# Report\n",
        "print(classification_report(y_test, y_pred))"
      ],
      "metadata": {
        "colab": {
          "base_uri": "https://localhost:8080/"
        },
        "id": "OaCtrWB6Bhzo",
        "outputId": "c2dfa466-5c1c-449d-d32f-8677c15069c5"
      },
      "execution_count": 99,
      "outputs": [
        {
          "output_type": "stream",
          "name": "stdout",
          "text": [
            "              precision    recall  f1-score   support\n",
            "\n",
            "           0       0.83      0.90      0.87      1525\n",
            "           1       0.68      0.52      0.59       588\n",
            "\n",
            "    accuracy                           0.80      2113\n",
            "   macro avg       0.75      0.71      0.73      2113\n",
            "weighted avg       0.79      0.80      0.79      2113\n",
            "\n"
          ]
        }
      ]
    },
    {
      "cell_type": "markdown",
      "source": [
        "# XGBoost Classifier"
      ],
      "metadata": {
        "id": "AxOM0tXSB6gL"
      }
    },
    {
      "cell_type": "code",
      "source": [
        "# XGBoost Classifier\n",
        "LM = XGBClassifier()\n",
        "LM.fit(X_train, y_train)\n",
        "y_pred = LM.predict(X_test)\n",
        "\n",
        "print(\"Accuracy Score for XGB CLassifier is \", accuracy_score(y_test, y_pred))"
      ],
      "metadata": {
        "colab": {
          "base_uri": "https://localhost:8080/"
        },
        "id": "hkVaxieBBrMs",
        "outputId": "cb353db0-1fe2-4fa7-97ca-3a9a7d4419fa"
      },
      "execution_count": 100,
      "outputs": [
        {
          "output_type": "stream",
          "name": "stdout",
          "text": [
            "Accuracy Score for XGB CLassifier is  0.77520113582584\n"
          ]
        }
      ]
    },
    {
      "cell_type": "code",
      "source": [
        "# Report\n",
        "print(classification_report(y_test, y_pred))"
      ],
      "metadata": {
        "colab": {
          "base_uri": "https://localhost:8080/"
        },
        "id": "Z72nWFERCVqq",
        "outputId": "10b9221e-f43f-4c58-8b1d-4d3cfea58931"
      },
      "execution_count": 101,
      "outputs": [
        {
          "output_type": "stream",
          "name": "stdout",
          "text": [
            "              precision    recall  f1-score   support\n",
            "\n",
            "           0       0.83      0.87      0.85      1525\n",
            "           1       0.61      0.52      0.56       588\n",
            "\n",
            "    accuracy                           0.78      2113\n",
            "   macro avg       0.72      0.70      0.71      2113\n",
            "weighted avg       0.77      0.78      0.77      2113\n",
            "\n"
          ]
        }
      ]
    },
    {
      "cell_type": "markdown",
      "source": [
        "### Hyperparameter Tuning and then compare with those models"
      ],
      "metadata": {
        "id": "DD_tN4y7E1sV"
      }
    },
    {
      "cell_type": "markdown",
      "source": [
        "# Logistic Regression"
      ],
      "metadata": {
        "id": "1lMsOA_6IV3R"
      }
    },
    {
      "cell_type": "code",
      "source": [
        "LM = LogisticRegression()\n",
        "\n",
        "param_grid = {\n",
        "    'max_iter': [100, 200, 300],\n",
        "    'multi_class': ['auto', 'ovr', 'multinomial'],\n",
        "    'solver' : ['lbfgs', 'liblinear', 'newton-cg', 'newton-cholesky', 'sag', 'saga']\n",
        "}\n",
        "\n",
        "gs1 = GridSearchCV(\n",
        "        estimator= LM,\n",
        "        param_grid = param_grid,\n",
        "        cv=5,\n",
        "        n_jobs=-1,\n",
        "        scoring='roc_auc'\n",
        "    )\n",
        "\n",
        "fit_LM_LR = gs1.fit(X_train, y_train)\n",
        "\n",
        "print(fit_LM_LR.best_params_)\n",
        "print(fit_LM_LR.best_score_)"
      ],
      "metadata": {
        "colab": {
          "base_uri": "https://localhost:8080/"
        },
        "id": "Nk4KJlMOEyrP",
        "outputId": "50b77144-1f0b-40a1-f11a-d11e44b67dbf"
      },
      "execution_count": 107,
      "outputs": [
        {
          "output_type": "stream",
          "name": "stdout",
          "text": [
            "{'max_iter': 100, 'multi_class': 'auto', 'solver': 'liblinear'}\n",
            "0.8289817173913206\n"
          ]
        }
      ]
    },
    {
      "cell_type": "code",
      "source": [
        "y_pred = fit_LM_LR.predict(X_test)\n",
        "print(classification_report(y_test, y_pred))"
      ],
      "metadata": {
        "colab": {
          "base_uri": "https://localhost:8080/"
        },
        "id": "AZRbeps6G7BO",
        "outputId": "cb2fa7dc-1b1e-45e9-eeb0-329e15b910ef"
      },
      "execution_count": 108,
      "outputs": [
        {
          "output_type": "stream",
          "name": "stdout",
          "text": [
            "              precision    recall  f1-score   support\n",
            "\n",
            "           0       0.83      0.90      0.86      1525\n",
            "           1       0.67      0.52      0.58       588\n",
            "\n",
            "    accuracy                           0.79      2113\n",
            "   macro avg       0.75      0.71      0.72      2113\n",
            "weighted avg       0.78      0.79      0.78      2113\n",
            "\n"
          ]
        }
      ]
    },
    {
      "cell_type": "markdown",
      "source": [
        "# Random Forest Classifier"
      ],
      "metadata": {
        "id": "JlpwCtFwIvro"
      }
    },
    {
      "cell_type": "code",
      "source": [
        "LM = RandomForestClassifier()\n",
        "\n",
        "param_grid = {\n",
        "    'n_estimators': [100, 200, 300],\n",
        "    'max_depth': [None, 10, 20, 30, 40],\n",
        "    'criterion' : ['gini', 'entropy']\n",
        "}\n",
        "\n",
        "gs1 = GridSearchCV(\n",
        "        estimator= LM,\n",
        "        param_grid = param_grid,\n",
        "        cv=5,\n",
        "        n_jobs=-1,\n",
        "        scoring='roc_auc'\n",
        "    )\n",
        "\n",
        "fit_LM_RF = gs1.fit(X_train, y_train)\n",
        "\n",
        "print(fit_LM_RF.best_params_)\n",
        "print(fit_LM_RF.best_score_)"
      ],
      "metadata": {
        "colab": {
          "base_uri": "https://localhost:8080/"
        },
        "id": "H9anWpAVIyXj",
        "outputId": "73993fb6-05c6-45a4-8737-7946f08543cb"
      },
      "execution_count": 112,
      "outputs": [
        {
          "output_type": "stream",
          "name": "stdout",
          "text": [
            "{'criterion': 'entropy', 'max_depth': 10, 'n_estimators': 200}\n",
            "0.8236579660817094\n"
          ]
        }
      ]
    },
    {
      "cell_type": "code",
      "source": [
        "y_pred = fit_LM_RF.predict(X_test)\n",
        "print(classification_report(y_test, y_pred))"
      ],
      "metadata": {
        "colab": {
          "base_uri": "https://localhost:8080/"
        },
        "id": "IB8_BHrJJ915",
        "outputId": "cf5209b5-4543-416a-c9c1-6aa47a922afe"
      },
      "execution_count": 113,
      "outputs": [
        {
          "output_type": "stream",
          "name": "stdout",
          "text": [
            "              precision    recall  f1-score   support\n",
            "\n",
            "           0       0.83      0.90      0.86      1525\n",
            "           1       0.66      0.53      0.59       588\n",
            "\n",
            "    accuracy                           0.79      2113\n",
            "   macro avg       0.75      0.71      0.72      2113\n",
            "weighted avg       0.78      0.79      0.79      2113\n",
            "\n"
          ]
        }
      ]
    },
    {
      "cell_type": "markdown",
      "source": [
        "# Decision Tree Classifier"
      ],
      "metadata": {
        "id": "LsBAPxs2LVGh"
      }
    },
    {
      "cell_type": "code",
      "source": [
        "LM = DecisionTreeClassifier()\n",
        "\n",
        "param_grid = {\n",
        "    'min_samples_leaf': [1,2,4],\n",
        "    'max_depth': [None, 10, 20, 30, 40],\n",
        "    'criterion' : ['gini', 'entropy']\n",
        "}\n",
        "\n",
        "gs1 = GridSearchCV(\n",
        "        estimator= LM,\n",
        "        param_grid = param_grid,\n",
        "        cv=5,\n",
        "        n_jobs=-1,\n",
        "        scoring='roc_auc'\n",
        "    )\n",
        "\n",
        "fit_LM_DT = gs1.fit(X_train, y_train)\n",
        "\n",
        "print(fit_LM_DT.best_params_)\n",
        "print(fit_LM_DT.best_score_)"
      ],
      "metadata": {
        "colab": {
          "base_uri": "https://localhost:8080/"
        },
        "id": "H0Cy-gnqLYxi",
        "outputId": "7bcec8dc-cdae-4875-99d1-cb06701ed120"
      },
      "execution_count": 117,
      "outputs": [
        {
          "output_type": "stream",
          "name": "stdout",
          "text": [
            "{'criterion': 'entropy', 'max_depth': 10, 'min_samples_leaf': 4}\n",
            "0.7382174669175793\n"
          ]
        }
      ]
    },
    {
      "cell_type": "code",
      "source": [
        "y_pred = fit_LM_RF.predict(X_test)\n",
        "print(classification_report(y_test, y_pred))"
      ],
      "metadata": {
        "colab": {
          "base_uri": "https://localhost:8080/"
        },
        "id": "21j6Yq9eL4Ld",
        "outputId": "40862487-baee-48ac-d739-3ddde1ae7158"
      },
      "execution_count": 118,
      "outputs": [
        {
          "output_type": "stream",
          "name": "stdout",
          "text": [
            "              precision    recall  f1-score   support\n",
            "\n",
            "           0       0.83      0.89      0.86      1525\n",
            "           1       0.65      0.52      0.58       588\n",
            "\n",
            "    accuracy                           0.79      2113\n",
            "   macro avg       0.74      0.70      0.72      2113\n",
            "weighted avg       0.78      0.79      0.78      2113\n",
            "\n"
          ]
        }
      ]
    },
    {
      "cell_type": "markdown",
      "source": [
        "#Gaussian NB"
      ],
      "metadata": {
        "id": "7mVM2IfqMXxS"
      }
    },
    {
      "cell_type": "code",
      "source": [
        "LM = GaussianNB()\n",
        "\n",
        "param_grid = {\n",
        "    'var_smoothing': [1e-9, 1e-8, 1e-7],\n",
        "}\n",
        "\n",
        "gs1 = GridSearchCV(\n",
        "        estimator= LM,\n",
        "        param_grid = param_grid,\n",
        "        cv=5,\n",
        "        n_jobs=-1,\n",
        "        scoring='roc_auc'\n",
        "    )\n",
        "\n",
        "fit_LM_GNB = gs1.fit(X_train, y_train)\n",
        "\n",
        "print(fit_LM_GNB.best_params_)\n",
        "print(fit_LM_GNB.best_score_)"
      ],
      "metadata": {
        "colab": {
          "base_uri": "https://localhost:8080/"
        },
        "id": "Q87oLArMMZYc",
        "outputId": "1e4f965d-a782-4d12-ec38-f3054d5eec8a"
      },
      "execution_count": 121,
      "outputs": [
        {
          "output_type": "stream",
          "name": "stdout",
          "text": [
            "{'var_smoothing': 1e-09}\n",
            "0.8106534465429572\n"
          ]
        }
      ]
    },
    {
      "cell_type": "code",
      "source": [
        "y_pred = fit_LM_GNB.predict(X_test)\n",
        "print(classification_report(y_test, y_pred))"
      ],
      "metadata": {
        "colab": {
          "base_uri": "https://localhost:8080/"
        },
        "id": "TSsRalzUNqMZ",
        "outputId": "f4a4e900-cedb-42c2-ea91-bf5b661e3cdc"
      },
      "execution_count": 122,
      "outputs": [
        {
          "output_type": "stream",
          "name": "stdout",
          "text": [
            "              precision    recall  f1-score   support\n",
            "\n",
            "           0       0.86      0.82      0.84      1525\n",
            "           1       0.58      0.64      0.61       588\n",
            "\n",
            "    accuracy                           0.77      2113\n",
            "   macro avg       0.72      0.73      0.72      2113\n",
            "weighted avg       0.78      0.77      0.77      2113\n",
            "\n"
          ]
        }
      ]
    },
    {
      "cell_type": "markdown",
      "source": [
        "#KNeighbors Classifier"
      ],
      "metadata": {
        "id": "gR7er9UZNuW0"
      }
    },
    {
      "cell_type": "code",
      "source": [
        "LM = KNeighborsClassifier()\n",
        "\n",
        "param_grid = {\n",
        "    'n_neighbors': [3, 5, 7],\n",
        "    'weights': ['uniform', 'distance']\n",
        "}\n",
        "\n",
        "gs1 = GridSearchCV(\n",
        "        estimator= LM,\n",
        "        param_grid = param_grid,\n",
        "        cv=5,\n",
        "        n_jobs=-1,\n",
        "        scoring='roc_auc'\n",
        "    )\n",
        "\n",
        "fit_LM_KN = gs1.fit(X_train, y_train)\n",
        "\n",
        "print(fit_LM_KN.best_params_)\n",
        "print(fit_LM_KN.best_score_)"
      ],
      "metadata": {
        "colab": {
          "base_uri": "https://localhost:8080/"
        },
        "id": "G1AnCBCtNxPB",
        "outputId": "95cf9ec2-f04d-4155-ccc5-89d2a6484339"
      },
      "execution_count": 124,
      "outputs": [
        {
          "output_type": "stream",
          "name": "stdout",
          "text": [
            "{'n_neighbors': 7, 'weights': 'uniform'}\n",
            "0.7745186118125513\n"
          ]
        }
      ]
    },
    {
      "cell_type": "code",
      "source": [
        "y_pred = fit_LM_KN.predict(X_test)\n",
        "print(classification_report(y_test, y_pred))"
      ],
      "metadata": {
        "colab": {
          "base_uri": "https://localhost:8080/"
        },
        "id": "GxvvOlwqOccL",
        "outputId": "921e59fe-bb2e-49a6-e29e-555ede354109"
      },
      "execution_count": 125,
      "outputs": [
        {
          "output_type": "stream",
          "name": "stdout",
          "text": [
            "              precision    recall  f1-score   support\n",
            "\n",
            "           0       0.81      0.87      0.84      1525\n",
            "           1       0.59      0.48      0.53       588\n",
            "\n",
            "    accuracy                           0.76      2113\n",
            "   macro avg       0.70      0.67      0.68      2113\n",
            "weighted avg       0.75      0.76      0.75      2113\n",
            "\n"
          ]
        }
      ]
    },
    {
      "cell_type": "markdown",
      "source": [
        "# AdaBoost Classifier"
      ],
      "metadata": {
        "id": "E_mKbc4FXEIH"
      }
    },
    {
      "cell_type": "code",
      "source": [
        "LM = AdaBoostClassifier()\n",
        "\n",
        "param_grid = {\n",
        "    'n_estimators': [50, 100, 200],  # Jumlah estimator (pohon kecil) dalam ensemble.\n",
        "    'learning_rate': [0.01, 0.1, 0.5, 1.0],  # Tingkat pembelajaran.\n",
        "    'algorithm': ['SAMME', 'SAMME.R']  # Algoritma yang digunakan.\n",
        "}\n",
        "\n",
        "gs1 = GridSearchCV(\n",
        "        estimator= LM,\n",
        "        param_grid = param_grid,\n",
        "        cv=5,\n",
        "        n_jobs=-1,\n",
        "        scoring='roc_auc'\n",
        "    )\n",
        "\n",
        "fit_LM_ABC = gs1.fit(X_train, y_train)\n",
        "\n",
        "print(fit_LM_ABC.best_params_)\n",
        "print(fit_LM_ABC.best_score_)"
      ],
      "metadata": {
        "colab": {
          "base_uri": "https://localhost:8080/"
        },
        "id": "thWebk3rXGz2",
        "outputId": "da70e1d0-0c87-4af1-c563-3ddd1ee3e52f"
      },
      "execution_count": 128,
      "outputs": [
        {
          "output_type": "stream",
          "name": "stdout",
          "text": [
            "{'algorithm': 'SAMME.R', 'learning_rate': 0.1, 'n_estimators': 200}\n",
            "0.8343161037882695\n"
          ]
        }
      ]
    },
    {
      "cell_type": "code",
      "source": [
        "y_pred = fit_LM_ABC.predict(X_test)\n",
        "print(classification_report(y_test, y_pred))"
      ],
      "metadata": {
        "colab": {
          "base_uri": "https://localhost:8080/"
        },
        "id": "nOZgG608X53a",
        "outputId": "bb8a1708-a161-4c1f-fc3f-0105895288c5"
      },
      "execution_count": 129,
      "outputs": [
        {
          "output_type": "stream",
          "name": "stdout",
          "text": [
            "              precision    recall  f1-score   support\n",
            "\n",
            "           0       0.82      0.91      0.86      1525\n",
            "           1       0.67      0.49      0.57       588\n",
            "\n",
            "    accuracy                           0.79      2113\n",
            "   macro avg       0.75      0.70      0.71      2113\n",
            "weighted avg       0.78      0.79      0.78      2113\n",
            "\n"
          ]
        }
      ]
    },
    {
      "cell_type": "markdown",
      "source": [
        "#Voting Classifier\n"
      ],
      "metadata": {
        "id": "n8PQ7udIiDvG"
      }
    },
    {
      "cell_type": "code",
      "source": [
        "gbc = GradientBoostingClassifier()\n",
        "lr = LogisticRegression()\n",
        "abc = AdaBoostClassifier()\n",
        "\n",
        "\n",
        "LM = VotingClassifier(estimators=[('gbc', GradientBoostingClassifier()), ('lr', LogisticRegression()), ('abc',  AdaBoostClassifier())], voting='soft')\n",
        "\n",
        "param_grid = {\n",
        "    'gbc__n_estimators': [50, 100, 200],  # Parameter untuk GradientBoostingClassifier\n",
        "    'lr__C': [0.1, 1, 10],  # Parameter untuk LogisticRegression\n",
        "    'abc__n_estimators': [50, 100, 200],  # Parameter untuk AdaBoostClassifier\n",
        "}\n",
        "gs1 = GridSearchCV(\n",
        "        estimator= LM,\n",
        "        param_grid = param_grid,\n",
        "        cv=5,\n",
        "        n_jobs=-1,\n",
        "        scoring='roc_auc'\n",
        "    )\n",
        "\n",
        "fit_LM_VC = gs1.fit(X_train, y_train)\n",
        "\n",
        "print(fit_LM_VC.best_params_)\n",
        "print(fit_LM_VC.best_score_)"
      ],
      "metadata": {
        "colab": {
          "base_uri": "https://localhost:8080/"
        },
        "id": "rqM3sIqcaNP1",
        "outputId": "48e05d35-b367-4121-92ba-adfb01b302ff"
      },
      "execution_count": 132,
      "outputs": [
        {
          "output_type": "stream",
          "name": "stdout",
          "text": [
            "{'abc__n_estimators': 50, 'gbc__n_estimators': 50, 'lr__C': 1}\n",
            "0.8346534313838122\n"
          ]
        }
      ]
    },
    {
      "cell_type": "code",
      "source": [
        "y_pred = fit_LM_VC.predict(X_test)\n",
        "print(classification_report(y_test, y_pred))"
      ],
      "metadata": {
        "colab": {
          "base_uri": "https://localhost:8080/"
        },
        "id": "xxGt3hHeYc-P",
        "outputId": "d8e91358-e078-426b-8dee-bcf444afa79e"
      },
      "execution_count": 133,
      "outputs": [
        {
          "output_type": "stream",
          "name": "stdout",
          "text": [
            "              precision    recall  f1-score   support\n",
            "\n",
            "           0       0.83      0.91      0.87      1525\n",
            "           1       0.68      0.51      0.59       588\n",
            "\n",
            "    accuracy                           0.80      2113\n",
            "   macro avg       0.75      0.71      0.73      2113\n",
            "weighted avg       0.79      0.80      0.79      2113\n",
            "\n"
          ]
        }
      ]
    },
    {
      "cell_type": "markdown",
      "source": [
        "# XGBoost Classifier"
      ],
      "metadata": {
        "id": "VYELBxbrbepd"
      }
    },
    {
      "cell_type": "code",
      "source": [
        "LM = XGBClassifier()\n",
        "\n",
        "param_grid = {\n",
        "    'n_estimators': [50, 100, 200],  # Jumlah estimator (pohon) dalam ensemble.\n",
        "    'learning_rate': [0.01, 0.1, 0.5, 1.0],  # Tingkat pembelajaran.\n",
        "    'max_depth': [3, 4, 5],  # Kedalaman maksimum pohon.\n",
        "    'subsample': [0.8, 1.0],  # Proporsi sampel yang digunakan dalam setiap estimator.\n",
        "}\n",
        "\n",
        "gs1 = GridSearchCV(\n",
        "        estimator= LM,\n",
        "        param_grid = param_grid,\n",
        "        cv=5,\n",
        "        n_jobs=-1,\n",
        "        scoring='roc_auc'\n",
        "    )\n",
        "\n",
        "fit_LM_XGB = gs1.fit(X_train, y_train)\n",
        "\n",
        "print(fit_LM_XGB.best_params_)\n",
        "print(fit_LM_XGB.best_score_)"
      ],
      "metadata": {
        "colab": {
          "base_uri": "https://localhost:8080/"
        },
        "id": "M9ggAOgzbgdG",
        "outputId": "14878083-3343-47b6-dce5-cf3c61d3cd3c"
      },
      "execution_count": 134,
      "outputs": [
        {
          "output_type": "stream",
          "name": "stdout",
          "text": [
            "{'learning_rate': 0.1, 'max_depth': 3, 'n_estimators': 50, 'subsample': 0.8}\n",
            "0.8341864878543088\n"
          ]
        }
      ]
    },
    {
      "cell_type": "code",
      "source": [
        "y_pred = fit_LM_XGB.predict(X_test)\n",
        "print(classification_report(y_test, y_pred))"
      ],
      "metadata": {
        "colab": {
          "base_uri": "https://localhost:8080/"
        },
        "id": "ksXgNu_ycHbc",
        "outputId": "95104758-6f3c-47ca-e729-77f91ab6100c"
      },
      "execution_count": 135,
      "outputs": [
        {
          "output_type": "stream",
          "name": "stdout",
          "text": [
            "              precision    recall  f1-score   support\n",
            "\n",
            "           0       0.83      0.90      0.86      1525\n",
            "           1       0.67      0.52      0.58       588\n",
            "\n",
            "    accuracy                           0.79      2113\n",
            "   macro avg       0.75      0.71      0.72      2113\n",
            "weighted avg       0.78      0.79      0.79      2113\n",
            "\n"
          ]
        }
      ]
    },
    {
      "cell_type": "markdown",
      "source": [
        "# ROC Analysis"
      ],
      "metadata": {
        "id": "zh4FI5eRhlvQ"
      }
    },
    {
      "cell_type": "code",
      "source": [
        "# Predict the probabilities for the churn: Yes, class\n",
        "y_pred_LOGREG = fit_LM_LR.predict_proba(X_test)[:,1]\n",
        "y_pred_ranfor = fit_LM_RF.predict_proba(X_test)[:,1]\n",
        "y_pred_dectree= fit_LM_DT.predict_proba(X_test)[:,1]\n",
        "y_pred_gauss= fit_LM_GNB.predict_proba(X_test)[:,1]\n",
        "y_pred_kneigh = fit_LM_KN.predict_proba(X_test)[:,1]\n",
        "y_pred_adaboost = fit_LM_ABC.predict_proba(X_test)[:,1]\n",
        "y_pred_voting = fit_LM_VC.predict_proba(X_test)[:,1]\n",
        "y_pred_xgboost= fit_LM_XGB.predict_proba(X_test)[:,1]\n",
        "\n",
        "# Calculate the AUC-ROC scores\n",
        "auc_LOGREG = roc_auc_score(y_test, y_pred_LOGREG)\n",
        "auc_ranfor = roc_auc_score(y_test, y_pred_ranfor)\n",
        "auc_dt = roc_auc_score(y_test, y_pred_dectree)\n",
        "auc_gauss = roc_auc_score(y_test, y_pred_gauss)\n",
        "auc_kn = roc_auc_score(y_test, y_pred_kneigh)\n",
        "auc_aboost = roc_auc_score(y_test, y_pred_adaboost)\n",
        "auc_voting = roc_auc_score(y_test, y_pred_voting)\n",
        "auc_xgbos = roc_auc_score(y_test, y_pred_xgboost)\n",
        "\n",
        "print(f\"AUC-ROC for Logistic Regression: {auc_LOGREG}\")\n",
        "print(f\"AUC-ROC for Random Forest: {auc_ranfor}\")\n",
        "print(f\"AUC-ROC for Decision Tree: {auc_dt}\")\n",
        "print(f\"AUC-ROC for Gaussian-NB: {auc_gauss}\")\n",
        "print(f\"AUC-ROC for K-Nearest Neighbors Classifier: {auc_kn}\")\n",
        "print(f\"AUC-ROC for AdaBoost Classifier: {auc_aboost}\")\n",
        "print(f\"AUC-ROC for Voting Classifier: {auc_voting}\")\n",
        "print(f\"AUC-ROC for XGBoost Classifier: {auc_xgbos}\")"
      ],
      "metadata": {
        "colab": {
          "base_uri": "https://localhost:8080/"
        },
        "id": "k_vyt0WshnQK",
        "outputId": "5ed7f809-2dd5-4c85-eaf1-f95b967d8d30"
      },
      "execution_count": 144,
      "outputs": [
        {
          "output_type": "stream",
          "name": "stdout",
          "text": [
            "AUC-ROC for Logistic Regression: 0.8258536857365897\n",
            "AUC-ROC for Random Forest: 0.8341451990632319\n",
            "AUC-ROC for Decision Tree: 0.7587849894055984\n",
            "AUC-ROC for Gaussian-NB: 0.8109847217575555\n",
            "AUC-ROC for K-Nearest Neighbors Classifier: 0.7834359317497491\n",
            "AUC-ROC for AdaBoost Classifier: 0.8403958960633434\n",
            "AUC-ROC for Voting Classifier: 0.838368462138954\n",
            "AUC-ROC for XGBoost Classifier: 0.8426519460243114\n"
          ]
        }
      ]
    },
    {
      "cell_type": "code",
      "source": [
        "# Visualizing ROC\n",
        "def plot_roc_curves(y_test,\n",
        "                    y_pred_LOGREG,\n",
        "                    y_pred_ranfor,\n",
        "                    y_pred_dectree,\n",
        "                    y_pred_gauss,\n",
        "                    y_pred_kneigh,\n",
        "                    y_pred_adaboost,\n",
        "                    y_pred_voting,\n",
        "                    y_pred_xgboost):\n",
        "    plt.figure(figsize=(8, 6))\n",
        "\n",
        "    # Calculate ROC curves for each model\n",
        "    fpr_logreg, tpr_logreg, _ = roc_curve(y_test, y_pred_LOGREG)\n",
        "    fpr_rf, tpr_rf, _ = roc_curve(y_test, y_pred_ranfor)\n",
        "    fpr_dt, tpr_dt, _ = roc_curve(y_test, y_pred_dectree)\n",
        "    fpr_gauss, tpr_gauss, _ = roc_curve(y_test, y_pred_gauss)\n",
        "    fpr_kn, tpr_kn, _ = roc_curve(y_test, y_pred_kneigh)\n",
        "    fpr_abc, tpr_abc, _ = roc_curve(y_test, y_pred_adaboost)\n",
        "    fpr_vc, tpr_vc, _ = roc_curve(y_test, y_pred_voting)\n",
        "    fpr_xgbc, tpr_xgbc, _ = roc_curve(y_test, y_pred_xgboost)\n",
        "\n",
        "    # Plot ROC curves\n",
        "    plt.plot(fpr_logreg, tpr_logreg, label=f'Logistic Regression (AUC = {auc_LOGREG:.2f})')\n",
        "    plt.plot(fpr_rf, tpr_rf, label=f'Random Forest Classifier (AUC = {auc_ranfor:.2f})')\n",
        "    plt.plot(fpr_dt, tpr_dt, label=f'Decision Tree Classifier (AUC = {auc_dt:.2f})')\n",
        "    plt.plot(fpr_gauss, tpr_gauss, label=f'Gaussian-NB (AUC = {auc_gauss:.2f})')\n",
        "    plt.plot(fpr_kn, tpr_kn, label=f'K-Nearest Neighbor Classifier (AUC = {auc_kn:.2f})')\n",
        "    plt.plot(fpr_abc, tpr_abc, label=f'AdaBoost Classifier (AUC = {auc_aboost:.2f})')\n",
        "    plt.plot(fpr_vc, tpr_vc, label=f'Voting Classifier (AUC = {auc_voting:.2f})')\n",
        "    plt.plot(fpr_xgbc, tpr_xgbc, label=f'XGBoost Classifier (AUC = {auc_xgbos:.2f})')\n",
        "\n",
        "    # Plot random classifier\n",
        "    plt.plot([0,1],[0,1], linestyle='--', label='Random Classifier')\n",
        "\n",
        "    # Format the plot\n",
        "    plt.xlabel('False Positive Rate')\n",
        "    plt.ylabel('True Positive Rate')\n",
        "    plt.title('ROC Curves for Customer Churn Prediction Models')\n",
        "    plt.legend()\n",
        "    plt.show()\n",
        "\n",
        "plot_roc_curves(y_test,\n",
        "                y_pred_LOGREG,\n",
        "                y_pred_ranfor,\n",
        "                y_pred_dectree,\n",
        "                y_pred_gauss,\n",
        "                y_pred_kneigh,\n",
        "                y_pred_adaboost,\n",
        "                y_pred_voting,\n",
        "                y_pred_xgboost\n",
        "                )"
      ],
      "metadata": {
        "colab": {
          "base_uri": "https://localhost:8080/",
          "height": 516
        },
        "id": "2Qo_hex4i_K2",
        "outputId": "daeee53f-f906-4225-a890-0288adb2d494"
      },
      "execution_count": 146,
      "outputs": [
        {
          "output_type": "display_data",
          "data": {
            "text/plain": [
              "<Figure size 800x600 with 1 Axes>"
            ],
            "image/png": "[encoded data removed]"
          },
          "metadata": {}
        }
      ]
    },
    {
      "cell_type": "code",
      "source": [
        "# Define Threshold\n",
        "def find_thresholds(y_pred, y_test, thresholds):\n",
        "    fpr_list = []\n",
        "    tpr_list = []\n",
        "    for threshold in thresholds:\n",
        "        y_pred_binary = (y_pred > threshold).astype(int)\n",
        "        tn, fp, fn, tp = confusion_matrix(y_test, y_pred_binary).ravel()\n",
        "        fpr = fp / (fp + tn)\n",
        "        tpr = tp / (tp + fn)\n",
        "        fpr_list.append(fpr)\n",
        "        tpr_list.append(tpr)\n",
        "    return fpr_list, tpr_list\n",
        "\n",
        "thresholds = np.arange(0, 1.1, 0.1)\n",
        "\n",
        "fpr_logreg, tpr_logreg = find_thresholds(y_pred_LOGREG, y_test, thresholds)\n",
        "fpr_rf, tpr_rf = find_thresholds(y_pred_ranfor, y_test, thresholds)\n",
        "fpr_dt, tpr_dt = find_thresholds(y_pred_dectree, y_test, thresholds)\n",
        "fpr_gauss, tpr_gauss = find_thresholds(y_pred_gauss,y_test, thresholds)\n",
        "fpr_kn, tpr_kn = find_thresholds(y_pred_kneigh, y_test, thresholds)\n",
        "fpr_abc, tpr_abc = find_thresholds(y_pred_adaboost, y_test, thresholds)\n",
        "fpr_vc, tpr_vc = find_thresholds(y_pred_voting, y_test, thresholds)\n",
        "fpr_xgbc, tpr_xgbc = find_thresholds(y_pred_xgboost,y_test, thresholds)\n",
        "\n",
        "summary_df = pd.DataFrame({\n",
        "    'Threshold' : thresholds,\n",
        "    'Logistic Regression FPR' : fpr_logreg,\n",
        "    'Logistic Regression TPR' : tpr_logreg,\n",
        "    'Random Forest FPR' : fpr_rf,\n",
        "    'Random Forest TPR' : tpr_rf,\n",
        "    'Decision Tree FPR' : fpr_dt,\n",
        "    'Decision Tree TPR' : tpr_dt,\n",
        "    'Gaussian-NB FPR' : fpr_gauss,\n",
        "    'Gaussian-NB TPR' : tpr_gauss,\n",
        "    'KNN Classifier FPR' : fpr_kn,\n",
        "    'KNN Classifier TPR' : tpr_kn,\n",
        "    'AdaBoost Classifier FPR' : fpr_abc,\n",
        "    'AdaBoost Classifier TPR' : tpr_abc,\n",
        "    'Voting Classifier FPR' : fpr_vc,\n",
        "    'Voting Classifier TPR' : tpr_vc,\n",
        "    'XGBoost Classifier' : fpr_xgbc,\n",
        "    'XGBoost Classifier' : tpr_xgbc,\n",
        "\n",
        "\n",
        "})\n",
        "\n",
        "print(summary_df)"
      ],
      "metadata": {
        "colab": {
          "base_uri": "https://localhost:8080/"
        },
        "id": "aDyyYq1glS4Q",
        "outputId": "7f0bda49-4ecc-4ead-a3c7-98710499f7fd"
      },
      "execution_count": 149,
      "outputs": [
        {
          "output_type": "stream",
          "name": "stdout",
          "text": [
            "    Threshold  Logistic Regression FPR  Logistic Regression TPR  \\\n",
            "0         0.0                 1.000000                 1.000000   \n",
            "1         0.1                 0.569180                 0.931973   \n",
            "2         0.2                 0.339672                 0.829932   \n",
            "3         0.3                 0.242623                 0.732993   \n",
            "4         0.4                 0.163279                 0.639456   \n",
            "5         0.5                 0.099672                 0.517007   \n",
            "6         0.6                 0.055738                 0.367347   \n",
            "7         0.7                 0.027541                 0.256803   \n",
            "8         0.8                 0.003279                 0.017007   \n",
            "9         0.9                 0.000000                 0.000000   \n",
            "10        1.0                 0.000000                 0.000000   \n",
            "\n",
            "    Random Forest FPR  Random Forest TPR  Decision Tree FPR  \\\n",
            "0            1.000000           1.000000           0.537049   \n",
            "1            0.550820           0.933673           0.401311   \n",
            "2            0.366557           0.875850           0.354098   \n",
            "3            0.245902           0.761905           0.270164   \n",
            "4            0.160656           0.647959           0.210492   \n",
            "5            0.108197           0.517007           0.160000   \n",
            "6            0.049180           0.340136           0.097705   \n",
            "7            0.013115           0.170068           0.079344   \n",
            "8            0.002623           0.057823           0.035410   \n",
            "9            0.000000           0.000000           0.030820   \n",
            "10           0.000000           0.000000           0.000000   \n",
            "\n",
            "    Decision Tree TPR  Gaussian-NB FPR  Gaussian-NB TPR  KNN Classifier FPR  \\\n",
            "0            0.843537         1.000000         1.000000            0.586230   \n",
            "1            0.819728         0.430820         0.862245            0.586230   \n",
            "2            0.782313         0.300328         0.787415            0.358689   \n",
            "3            0.714286         0.249180         0.732993            0.227541   \n",
            "4            0.622449         0.208525         0.690476            0.227541   \n",
            "5            0.537415         0.179672         0.644558            0.131148   \n",
            "6            0.394558         0.155410         0.603741            0.055082   \n",
            "7            0.365646         0.116721         0.523810            0.055082   \n",
            "8            0.146259         0.080656         0.421769            0.022951   \n",
            "9            0.129252         0.047213         0.297619            0.006557   \n",
            "10           0.000000         0.000000         0.000000            0.000000   \n",
            "\n",
            "    KNN Classifier TPR  AdaBoost Classifier FPR  AdaBoost Classifier TPR  \\\n",
            "0             0.911565                 1.000000                 1.000000   \n",
            "1             0.911565                 1.000000                 1.000000   \n",
            "2             0.828231                 1.000000                 1.000000   \n",
            "3             0.671769                 1.000000                 1.000000   \n",
            "4             0.671769                 0.998689                 0.998299   \n",
            "5             0.479592                 0.090492                 0.486395   \n",
            "6             0.270408                 0.000000                 0.000000   \n",
            "7             0.270408                 0.000000                 0.000000   \n",
            "8             0.122449                 0.000000                 0.000000   \n",
            "9             0.028912                 0.000000                 0.000000   \n",
            "10            0.000000                 0.000000                 0.000000   \n",
            "\n",
            "    Voting Classifier FPR  Voting Classifier TPR  XGBoost Classifier  \n",
            "0                1.000000               1.000000            1.000000  \n",
            "1                1.000000               1.000000            0.940476  \n",
            "2                0.723279               0.977891            0.874150  \n",
            "3                0.340984               0.853741            0.761905  \n",
            "4                0.186230               0.693878            0.649660  \n",
            "5                0.093115               0.513605            0.517007  \n",
            "6                0.039344               0.299320            0.374150  \n",
            "7                0.001967               0.028912            0.195578  \n",
            "8                0.000000               0.000000            0.056122  \n",
            "9                0.000000               0.000000            0.000000  \n",
            "10               0.000000               0.000000            0.000000  \n"
          ]
        }
      ]
    },
    {
      "cell_type": "code",
      "source": [
        "summary_df"
      ],
      "metadata": {
        "colab": {
          "base_uri": "https://localhost:8080/",
          "height": 449
        },
        "id": "l7WZ76h_nymQ",
        "outputId": "99ddb67a-8c6b-44fd-b3ee-b8bc6e634b45"
      },
      "execution_count": 150,
      "outputs": [
        {
          "output_type": "execute_result",
          "data": {
            "text/plain": [
              "    Threshold  Logistic Regression FPR  Logistic Regression TPR  \\\n",
              "0         0.0                 1.000000                 1.000000   \n",
              "1         0.1                 0.569180                 0.931973   \n",
              "2         0.2                 0.339672                 0.829932   \n",
              "3         0.3                 0.242623                 0.732993   \n",
              "4         0.4                 0.163279                 0.639456   \n",
              "5         0.5                 0.099672                 0.517007   \n",
              "6         0.6                 0.055738                 0.367347   \n",
              "7         0.7                 0.027541                 0.256803   \n",
              "8         0.8                 0.003279                 0.017007   \n",
              "9         0.9                 0.000000                 0.000000   \n",
              "10        1.0                 0.000000                 0.000000   \n",
              "\n",
              "    Random Forest FPR  Random Forest TPR  Decision Tree FPR  \\\n",
              "0            1.000000           1.000000           0.537049   \n",
              "1            0.550820           0.933673           0.401311   \n",
              "2            0.366557           0.875850           0.354098   \n",
              "3            0.245902           0.761905           0.270164   \n",
              "4            0.160656           0.647959           0.210492   \n",
              "5            0.108197           0.517007           0.160000   \n",
              "6            0.049180           0.340136           0.097705   \n",
              "7            0.013115           0.170068           0.079344   \n",
              "8            0.002623           0.057823           0.035410   \n",
              "9            0.000000           0.000000           0.030820   \n",
              "10           0.000000           0.000000           0.000000   \n",
              "\n",
              "    Decision Tree TPR  Gaussian-NB FPR  Gaussian-NB TPR  KNN Classifier FPR  \\\n",
              "0            0.843537         1.000000         1.000000            0.586230   \n",
              "1            0.819728         0.430820         0.862245            0.586230   \n",
              "2            0.782313         0.300328         0.787415            0.358689   \n",
              "3            0.714286         0.249180         0.732993            0.227541   \n",
              "4            0.622449         0.208525         0.690476            0.227541   \n",
              "5            0.537415         0.179672         0.644558            0.131148   \n",
              "6            0.394558         0.155410         0.603741            0.055082   \n",
              "7            0.365646         0.116721         0.523810            0.055082   \n",
              "8            0.146259         0.080656         0.421769            0.022951   \n",
              "9            0.129252         0.047213         0.297619            0.006557   \n",
              "10           0.000000         0.000000         0.000000            0.000000   \n",
              "\n",
              "    KNN Classifier TPR  AdaBoost Classifier FPR  AdaBoost Classifier TPR  \\\n",
              "0             0.911565                 1.000000                 1.000000   \n",
              "1             0.911565                 1.000000                 1.000000   \n",
              "2             0.828231                 1.000000                 1.000000   \n",
              "3             0.671769                 1.000000                 1.000000   \n",
              "4             0.671769                 0.998689                 0.998299   \n",
              "5             0.479592                 0.090492                 0.486395   \n",
              "6             0.270408                 0.000000                 0.000000   \n",
              "7             0.270408                 0.000000                 0.000000   \n",
              "8             0.122449                 0.000000                 0.000000   \n",
              "9             0.028912                 0.000000                 0.000000   \n",
              "10            0.000000                 0.000000                 0.000000   \n",
              "\n",
              "    Voting Classifier FPR  Voting Classifier TPR  XGBoost Classifier  \n",
              "0                1.000000               1.000000            1.000000  \n",
              "1                1.000000               1.000000            0.940476  \n",
              "2                0.723279               0.977891            0.874150  \n",
              "3                0.340984               0.853741            0.761905  \n",
              "4                0.186230               0.693878            0.649660  \n",
              "5                0.093115               0.513605            0.517007  \n",
              "6                0.039344               0.299320            0.374150  \n",
              "7                0.001967               0.028912            0.195578  \n",
              "8                0.000000               0.000000            0.056122  \n",
              "9                0.000000               0.000000            0.000000  \n",
              "10               0.000000               0.000000            0.000000  "
            ],
            "text/html": [
              "\n",
              "  <div id=\"df-dbc17e1a-bebe-4384-9c57-47fd4a459676\" class=\"colab-df-container\">\n",
              "    <div>\n",
              "<style scoped>\n",
              "    .dataframe tbody tr th:only-of-type {\n",
              "        vertical-align: middle;\n",
              "    }\n",
              "\n",
              "    .dataframe tbody tr th {\n",
              "        vertical-align: top;\n",
              "    }\n",
              "\n",
              "    .dataframe thead th {\n",
              "        text-align: right;\n",
              "    }\n",
              "</style>\n",
              "<table border=\"1\" class=\"dataframe\">\n",
              "  <thead>\n",
              "    <tr style=\"text-align: right;\">\n",
              "      <th></th>\n",
              "      <th>Threshold</th>\n",
              "      <th>Logistic Regression FPR</th>\n",
              "      <th>Logistic Regression TPR</th>\n",
              "      <th>Random Forest FPR</th>\n",
              "      <th>Random Forest TPR</th>\n",
              "      <th>Decision Tree FPR</th>\n",
              "      <th>Decision Tree TPR</th>\n",
              "      <th>Gaussian-NB FPR</th>\n",
              "      <th>Gaussian-NB TPR</th>\n",
              "      <th>KNN Classifier FPR</th>\n",
              "      <th>KNN Classifier TPR</th>\n",
              "      <th>AdaBoost Classifier FPR</th>\n",
              "      <th>AdaBoost Classifier TPR</th>\n",
              "      <th>Voting Classifier FPR</th>\n",
              "      <th>Voting Classifier TPR</th>\n",
              "      <th>XGBoost Classifier</th>\n",
              "    </tr>\n",
              "  </thead>\n",
              "  <tbody>\n",
              "    <tr>\n",
              "      <th>0</th>\n",
              "      <td>0.0</td>\n",
              "      <td>1.000000</td>\n",
              "      <td>1.000000</td>\n",
              "      <td>1.000000</td>\n",
              "      <td>1.000000</td>\n",
              "      <td>0.537049</td>\n",
              "      <td>0.843537</td>\n",
              "      <td>1.000000</td>\n",
              "      <td>1.000000</td>\n",
              "      <td>0.586230</td>\n",
              "      <td>0.911565</td>\n",
              "      <td>1.000000</td>\n",
              "      <td>1.000000</td>\n",
              "      <td>1.000000</td>\n",
              "      <td>1.000000</td>\n",
              "      <td>1.000000</td>\n",
              "    </tr>\n",
              "    <tr>\n",
              "      <th>1</th>\n",
              "      <td>0.1</td>\n",
              "      <td>0.569180</td>\n",
              "      <td>0.931973</td>\n",
              "      <td>0.550820</td>\n",
              "      <td>0.933673</td>\n",
              "      <td>0.401311</td>\n",
              "      <td>0.819728</td>\n",
              "      <td>0.430820</td>\n",
              "      <td>0.862245</td>\n",
              "      <td>0.586230</td>\n",
              "      <td>0.911565</td>\n",
              "      <td>1.000000</td>\n",
              "      <td>1.000000</td>\n",
              "      <td>1.000000</td>\n",
              "      <td>1.000000</td>\n",
              "      <td>0.940476</td>\n",
              "    </tr>\n",
              "    <tr>\n",
              "      <th>2</th>\n",
              "      <td>0.2</td>\n",
              "      <td>0.339672</td>\n",
              "      <td>0.829932</td>\n",
              "      <td>0.366557</td>\n",
              "      <td>0.875850</td>\n",
              "      <td>0.354098</td>\n",
              "      <td>0.782313</td>\n",
              "      <td>0.300328</td>\n",
              "      <td>0.787415</td>\n",
              "      <td>0.358689</td>\n",
              "      <td>0.828231</td>\n",
              "      <td>1.000000</td>\n",
              "      <td>1.000000</td>\n",
              "      <td>0.723279</td>\n",
              "      <td>0.977891</td>\n",
              "      <td>0.874150</td>\n",
              "    </tr>\n",
              "    <tr>\n",
              "      <th>3</th>\n",
              "      <td>0.3</td>\n",
              "      <td>0.242623</td>\n",
              "      <td>0.732993</td>\n",
              "      <td>0.245902</td>\n",
              "      <td>0.761905</td>\n",
              "      <td>0.270164</td>\n",
              "      <td>0.714286</td>\n",
              "      <td>0.249180</td>\n",
              "      <td>0.732993</td>\n",
              "      <td>0.227541</td>\n",
              "      <td>0.671769</td>\n",
              "      <td>1.000000</td>\n",
              "      <td>1.000000</td>\n",
              "      <td>0.340984</td>\n",
              "      <td>0.853741</td>\n",
              "      <td>0.761905</td>\n",
              "    </tr>\n",
              "    <tr>\n",
              "      <th>4</th>\n",
              "      <td>0.4</td>\n",
              "      <td>0.163279</td>\n",
              "      <td>0.639456</td>\n",
              "      <td>0.160656</td>\n",
              "      <td>0.647959</td>\n",
              "      <td>0.210492</td>\n",
              "      <td>0.622449</td>\n",
              "      <td>0.208525</td>\n",
              "      <td>0.690476</td>\n",
              "      <td>0.227541</td>\n",
              "      <td>0.671769</td>\n",
              "      <td>0.998689</td>\n",
              "      <td>0.998299</td>\n",
              "      <td>0.186230</td>\n",
              "      <td>0.693878</td>\n",
              "      <td>0.649660</td>\n",
              "    </tr>\n",
              "    <tr>\n",
              "      <th>5</th>\n",
              "      <td>0.5</td>\n",
              "      <td>0.099672</td>\n",
              "      <td>0.517007</td>\n",
              "      <td>0.108197</td>\n",
              "      <td>0.517007</td>\n",
              "      <td>0.160000</td>\n",
              "      <td>0.537415</td>\n",
              "      <td>0.179672</td>\n",
              "      <td>0.644558</td>\n",
              "      <td>0.131148</td>\n",
              "      <td>0.479592</td>\n",
              "      <td>0.090492</td>\n",
              "      <td>0.486395</td>\n",
              "      <td>0.093115</td>\n",
              "      <td>0.513605</td>\n",
              "      <td>0.517007</td>\n",
              "    </tr>\n",
              "    <tr>\n",
              "      <th>6</th>\n",
              "      <td>0.6</td>\n",
              "      <td>0.055738</td>\n",
              "      <td>0.367347</td>\n",
              "      <td>0.049180</td>\n",
              "      <td>0.340136</td>\n",
              "      <td>0.097705</td>\n",
              "      <td>0.394558</td>\n",
              "      <td>0.155410</td>\n",
              "      <td>0.603741</td>\n",
              "      <td>0.055082</td>\n",
              "      <td>0.270408</td>\n",
              "      <td>0.000000</td>\n",
              "      <td>0.000000</td>\n",
              "      <td>0.039344</td>\n",
              "      <td>0.299320</td>\n",
              "      <td>0.374150</td>\n",
              "    </tr>\n",
              "    <tr>\n",
              "      <th>7</th>\n",
              "      <td>0.7</td>\n",
              "      <td>0.027541</td>\n",
              "      <td>0.256803</td>\n",
              "      <td>0.013115</td>\n",
              "      <td>0.170068</td>\n",
              "      <td>0.079344</td>\n",
              "      <td>0.365646</td>\n",
              "      <td>0.116721</td>\n",
              "      <td>0.523810</td>\n",
              "      <td>0.055082</td>\n",
              "      <td>0.270408</td>\n",
              "      <td>0.000000</td>\n",
              "      <td>0.000000</td>\n",
              "      <td>0.001967</td>\n",
              "      <td>0.028912</td>\n",
              "      <td>0.195578</td>\n",
              "    </tr>\n",
              "    <tr>\n",
              "      <th>8</th>\n",
              "      <td>0.8</td>\n",
              "      <td>0.003279</td>\n",
              "      <td>0.017007</td>\n",
              "      <td>0.002623</td>\n",
              "      <td>0.057823</td>\n",
              "      <td>0.035410</td>\n",
              "      <td>0.146259</td>\n",
              "      <td>0.080656</td>\n",
              "      <td>0.421769</td>\n",
              "      <td>0.022951</td>\n",
              "      <td>0.122449</td>\n",
              "      <td>0.000000</td>\n",
              "      <td>0.000000</td>\n",
              "      <td>0.000000</td>\n",
              "      <td>0.000000</td>\n",
              "      <td>0.056122</td>\n",
              "    </tr>\n",
              "    <tr>\n",
              "      <th>9</th>\n",
              "      <td>0.9</td>\n",
              "      <td>0.000000</td>\n",
              "      <td>0.000000</td>\n",
              "      <td>0.000000</td>\n",
              "      <td>0.000000</td>\n",
              "      <td>0.030820</td>\n",
              "      <td>0.129252</td>\n",
              "      <td>0.047213</td>\n",
              "      <td>0.297619</td>\n",
              "      <td>0.006557</td>\n",
              "      <td>0.028912</td>\n",
              "      <td>0.000000</td>\n",
              "      <td>0.000000</td>\n",
              "      <td>0.000000</td>\n",
              "      <td>0.000000</td>\n",
              "      <td>0.000000</td>\n",
              "    </tr>\n",
              "    <tr>\n",
              "      <th>10</th>\n",
              "      <td>1.0</td>\n",
              "      <td>0.000000</td>\n",
              "      <td>0.000000</td>\n",
              "      <td>0.000000</td>\n",
              "      <td>0.000000</td>\n",
              "      <td>0.000000</td>\n",
              "      <td>0.000000</td>\n",
              "      <td>0.000000</td>\n",
              "      <td>0.000000</td>\n",
              "      <td>0.000000</td>\n",
              "      <td>0.000000</td>\n",
              "      <td>0.000000</td>\n",
              "      <td>0.000000</td>\n",
              "      <td>0.000000</td>\n",
              "      <td>0.000000</td>\n",
              "      <td>0.000000</td>\n",
              "    </tr>\n",
              "  </tbody>\n",
              "</table>\n",
              "</div>\n",
              "    <div class=\"colab-df-buttons\">\n",
              "\n",
              "  <div class=\"colab-df-container\">\n",
              "    <button class=\"colab-df-convert\" onclick=\"convertToInteractive('df-dbc17e1a-bebe-4384-9c57-47fd4a459676')\"\n",
              "            title=\"Convert this dataframe to an interactive table.\"\n",
              "            style=\"display:none;\">\n",
              "\n",
              "  <svg xmlns=\"http://www.w3.org/2000/svg\" height=\"24px\" viewBox=\"0 -960 960 960\">\n",
              "    <path d=\"M120-120v-720h720v720H120Zm60-500h600v-160H180v160Zm220 220h160v-160H400v160Zm0 220h160v-160H400v160ZM180-400h160v-160H180v160Zm440 0h160v-160H620v160ZM180-180h160v-160H180v160Zm440 0h160v-160H620v160Z\"/>\n",
              "  </svg>\n",
              "    </button>\n",
              "\n",
              "  <style>\n",
              "    .colab-df-container {\n",
              "      display:flex;\n",
              "      gap: 12px;\n",
              "    }\n",
              "\n",
              "    .colab-df-convert {\n",
              "      background-color: #E8F0FE;\n",
              "      border: none;\n",
              "      border-radius: 50%;\n",
              "      cursor: pointer;\n",
              "      display: none;\n",
              "      fill: #1967D2;\n",
              "      height: 32px;\n",
              "      padding: 0 0 0 0;\n",
              "      width: 32px;\n",
              "    }\n",
              "\n",
              "    .colab-df-convert:hover {\n",
              "      background-color: #E2EBFA;\n",
              "      box-shadow: 0px 1px 2px rgba(60, 64, 67, 0.3), 0px 1px 3px 1px rgba(60, 64, 67, 0.15);\n",
              "      fill: #174EA6;\n",
              "    }\n",
              "\n",
              "    .colab-df-buttons div {\n",
              "      margin-bottom: 4px;\n",
              "    }\n",
              "\n",
              "    [theme=dark] .colab-df-convert {\n",
              "      background-color: #3B4455;\n",
              "      fill: #D2E3FC;\n",
              "    }\n",
              "\n",
              "    [theme=dark] .colab-df-convert:hover {\n",
              "      background-color: #434B5C;\n",
              "      box-shadow: 0px 1px 3px 1px rgba(0, 0, 0, 0.15);\n",
              "      filter: drop-shadow(0px 1px 2px rgba(0, 0, 0, 0.3));\n",
              "      fill: #FFFFFF;\n",
              "    }\n",
              "  </style>\n",
              "\n",
              "    <script>\n",
              "      const buttonEl =\n",
              "        document.querySelector('#df-dbc17e1a-bebe-4384-9c57-47fd4a459676 button.colab-df-convert');\n",
              "      buttonEl.style.display =\n",
              "        google.colab.kernel.accessAllowed ? 'block' : 'none';\n",
              "\n",
              "      async function convertToInteractive(key) {\n",
              "        const element = document.querySelector('#df-dbc17e1a-bebe-4384-9c57-47fd4a459676');\n",
              "        const dataTable =\n",
              "          await google.colab.kernel.invokeFunction('convertToInteractive',\n",
              "                                                    [key], {});\n",
              "        if (!dataTable) return;\n",
              "\n",
              "        const docLinkHtml = 'Like what you see? Visit the ' +\n",
              "          '<a target=\"_blank\" href=https://colab.research.google.com/notebooks/data_table.ipynb>data table notebook</a>'\n",
              "          + ' to learn more about interactive tables.';\n",
              "        element.innerHTML = '';\n",
              "        dataTable['output_type'] = 'display_data';\n",
              "        await google.colab.output.renderOutput(dataTable, element);\n",
              "        const docLink = document.createElement('div');\n",
              "        docLink.innerHTML = docLinkHtml;\n",
              "        element.appendChild(docLink);\n",
              "      }\n",
              "    </script>\n",
              "  </div>\n",
              "\n",
              "\n",
              "<div id=\"df-5517f5a3-b461-4179-9816-37d4e1d16bf4\">\n",
              "  <button class=\"colab-df-quickchart\" onclick=\"quickchart('df-5517f5a3-b461-4179-9816-37d4e1d16bf4')\"\n",
              "            title=\"Suggest charts.\"\n",
              "            style=\"display:none;\">\n",
              "\n",
              "<svg xmlns=\"http://www.w3.org/2000/svg\" height=\"24px\"viewBox=\"0 0 24 24\"\n",
              "     width=\"24px\">\n",
              "    <g>\n",
              "        <path d=\"M19 3H5c-1.1 0-2 .9-2 2v14c0 1.1.9 2 2 2h14c1.1 0 2-.9 2-2V5c0-1.1-.9-2-2-2zM9 17H7v-7h2v7zm4 0h-2V7h2v10zm4 0h-2v-4h2v4z\"/>\n",
              "    </g>\n",
              "</svg>\n",
              "  </button>\n",
              "\n",
              "<style>\n",
              "  .colab-df-quickchart {\n",
              "      --bg-color: #E8F0FE;\n",
              "      --fill-color: #1967D2;\n",
              "      --hover-bg-color: #E2EBFA;\n",
              "      --hover-fill-color: #174EA6;\n",
              "      --disabled-fill-color: #AAA;\n",
              "      --disabled-bg-color: #DDD;\n",
              "  }\n",
              "\n",
              "  [theme=dark] .colab-df-quickchart {\n",
              "      --bg-color: #3B4455;\n",
              "      --fill-color: #D2E3FC;\n",
              "      --hover-bg-color: #434B5C;\n",
              "      --hover-fill-color: #FFFFFF;\n",
              "      --disabled-bg-color: #3B4455;\n",
              "      --disabled-fill-color: #666;\n",
              "  }\n",
              "\n",
              "  .colab-df-quickchart {\n",
              "    background-color: var(--bg-color);\n",
              "    border: none;\n",
              "    border-radius: 50%;\n",
              "    cursor: pointer;\n",
              "    display: none;\n",
              "    fill: var(--fill-color);\n",
              "    height: 32px;\n",
              "    padding: 0;\n",
              "    width: 32px;\n",
              "  }\n",
              "\n",
              "  .colab-df-quickchart:hover {\n",
              "    background-color: var(--hover-bg-color);\n",
              "    box-shadow: 0 1px 2px rgba(60, 64, 67, 0.3), 0 1px 3px 1px rgba(60, 64, 67, 0.15);\n",
              "    fill: var(--button-hover-fill-color);\n",
              "  }\n",
              "\n",
              "  .colab-df-quickchart-complete:disabled,\n",
              "  .colab-df-quickchart-complete:disabled:hover {\n",
              "    background-color: var(--disabled-bg-color);\n",
              "    fill: var(--disabled-fill-color);\n",
              "    box-shadow: none;\n",
              "  }\n",
              "\n",
              "  .colab-df-spinner {\n",
              "    border: 2px solid var(--fill-color);\n",
              "    border-color: transparent;\n",
              "    border-bottom-color: var(--fill-color);\n",
              "    animation:\n",
              "      spin 1s steps(1) infinite;\n",
              "  }\n",
              "\n",
              "  @keyframes spin {\n",
              "    0% {\n",
              "      border-color: transparent;\n",
              "      border-bottom-color: var(--fill-color);\n",
              "      border-left-color: var(--fill-color);\n",
              "    }\n",
              "    20% {\n",
              "      border-color: transparent;\n",
              "      border-left-color: var(--fill-color);\n",
              "      border-top-color: var(--fill-color);\n",
              "    }\n",
              "    30% {\n",
              "      border-color: transparent;\n",
              "      border-left-color: var(--fill-color);\n",
              "      border-top-color: var(--fill-color);\n",
              "      border-right-color: var(--fill-color);\n",
              "    }\n",
              "    40% {\n",
              "      border-color: transparent;\n",
              "      border-right-color: var(--fill-color);\n",
              "      border-top-color: var(--fill-color);\n",
              "    }\n",
              "    60% {\n",
              "      border-color: transparent;\n",
              "      border-right-color: var(--fill-color);\n",
              "    }\n",
              "    80% {\n",
              "      border-color: transparent;\n",
              "      border-right-color: var(--fill-color);\n",
              "      border-bottom-color: var(--fill-color);\n",
              "    }\n",
              "    90% {\n",
              "      border-color: transparent;\n",
              "      border-bottom-color: var(--fill-color);\n",
              "    }\n",
              "  }\n",
              "</style>\n",
              "\n",
              "  <script>\n",
              "    async function quickchart(key) {\n",
              "      const quickchartButtonEl =\n",
              "        document.querySelector('#' + key + ' button');\n",
              "      quickchartButtonEl.disabled = true;  // To prevent multiple clicks.\n",
              "      quickchartButtonEl.classList.add('colab-df-spinner');\n",
              "      try {\n",
              "        const charts = await google.colab.kernel.invokeFunction(\n",
              "            'suggestCharts', [key], {});\n",
              "      } catch (error) {\n",
              "        console.error('Error during call to suggestCharts:', error);\n",
              "      }\n",
              "      quickchartButtonEl.classList.remove('colab-df-spinner');\n",
              "      quickchartButtonEl.classList.add('colab-df-quickchart-complete');\n",
              "    }\n",
              "    (() => {\n",
              "      let quickchartButtonEl =\n",
              "        document.querySelector('#df-5517f5a3-b461-4179-9816-37d4e1d16bf4 button');\n",
              "      quickchartButtonEl.style.display =\n",
              "        google.colab.kernel.accessAllowed ? 'block' : 'none';\n",
              "    })();\n",
              "  </script>\n",
              "</div>\n",
              "    </div>\n",
              "  </div>\n"
            ]
          },
          "metadata": {},
          "execution_count": 150
        }
      ]
    },
    {
      "cell_type": "markdown",
      "source": [
        "### Find out best threshold"
      ],
      "metadata": {
        "id": "VDQqJyMnpxXI"
      }
    },
    {
      "cell_type": "code",
      "source": [
        "#Find out best threshold\n",
        "def find_best_threshold(y_test, y_pred):\n",
        "    # based on Youden's Index\n",
        "    fpr, tpr, thresholds = roc_curve(y_test, y_pred)\n",
        "\n",
        "    #calculate Youden's Index\n",
        "    youden_index = tpr - fpr\n",
        "\n",
        "    #pick best threshold\n",
        "    optimal_idx = np.argmax(youden_index)\n",
        "    return thresholds[optimal_idx]\n",
        "\n",
        "best_threshold_logreg = find_best_threshold(y_test, y_pred_LOGREG)\n",
        "best_threshold_rf = find_best_threshold(y_test, y_pred_ranfor)\n",
        "best_threshold_dt = find_best_threshold(y_test, y_pred_dectree)\n",
        "best_threshold_gnb = find_best_threshold(y_test, y_pred_gauss)\n",
        "best_threshold_knn = find_best_threshold(y_test, y_pred_kneigh)\n",
        "best_threshold_abc = find_best_threshold(y_test, y_pred_adaboost)\n",
        "best_threshold_vt = find_best_threshold(y_test, y_pred_voting)\n",
        "best_threshold_xgb = find_best_threshold(y_test, y_pred_xgboost)\n",
        "\n",
        "print(f\"Best threshold for Logistic Regression: {best_threshold_logreg}\")\n",
        "print(f\"Best threshold for Random Forest: {best_threshold_rf}\")\n",
        "print(f\"Best threshold for Decision Tree: {best_threshold_dt}\")\n",
        "print(f\"Best threshold for Gaussian-NB: {best_threshold_gnb}\")\n",
        "print(f\"Best threshold for KNN Classifier: {best_threshold_knn}\")\n",
        "print(f\"Best threshold for AdaBoost Classifier: {best_threshold_abc}\")\n",
        "print(f\"Best threshold for Voting Classifier: {best_threshold_vt}\")\n",
        "print(f\"Best threshold for XGBoost Classifier: {best_threshold_xgb}\")"
      ],
      "metadata": {
        "colab": {
          "base_uri": "https://localhost:8080/"
        },
        "id": "RTmuGtZoppDb",
        "outputId": "ef7623ff-7165-49cd-d701-d00b260dc4a8"
      },
      "execution_count": 151,
      "outputs": [
        {
          "output_type": "stream",
          "name": "stdout",
          "text": [
            "Best threshold for Logistic Regression: 0.3286749873127836\n",
            "Best threshold for Random Forest: 0.22868532053262192\n",
            "Best threshold for Decision Tree: 0.2857142857142857\n",
            "Best threshold for Gaussian-NB: 0.1849317203960866\n",
            "Best threshold for KNN Classifier: 0.2857142857142857\n",
            "Best threshold for AdaBoost Classifier: 0.48840915958985315\n",
            "Best threshold for Voting Classifier: 0.3340384515083481\n",
            "Best threshold for XGBoost Classifier: 0.29092031717300415\n"
          ]
        }
      ]
    },
    {
      "cell_type": "code",
      "source": [
        "#Save Model\n",
        "import pickle\n",
        "pklname = 'customer_churn.pkl'\n",
        "\n",
        "with open(pklname, 'wb') as file:\n",
        "  pickle.dump(fit_LM_XGB, file)"
      ],
      "metadata": {
        "id": "_zpWaWRbqrnw"
      },
      "execution_count": 152,
      "outputs": []
    },
    {
      "cell_type": "code",
      "source": [],
      "metadata": {
        "id": "z1kzZK0Fr7rc"
      },
      "execution_count": null,
      "outputs": []
    }
  ]
}